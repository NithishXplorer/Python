{
  "nbformat": 4,
  "nbformat_minor": 0,
  "metadata": {
    "colab": {
      "provenance": [],
      "authorship_tag": "ABX9TyMc0fQ25F0heJ3nwtXYHqNk",
      "include_colab_link": true
    },
    "kernelspec": {
      "name": "python3",
      "display_name": "Python 3"
    },
    "language_info": {
      "name": "python"
    }
  },
  "cells": [
    {
      "cell_type": "markdown",
      "metadata": {
        "id": "view-in-github",
        "colab_type": "text"
      },
      "source": [
        "<a href=\"https://colab.research.google.com/github/NithishXplorer/Python/blob/main/Tuples.ipynb\" target=\"_parent\"><img src=\"https://colab.research.google.com/assets/colab-badge.svg\" alt=\"Open In Colab\"/></a>"
      ]
    },
    {
      "cell_type": "code",
      "execution_count": 1,
      "metadata": {
        "id": "ZROnQXxDuGUq"
      },
      "outputs": [],
      "source": [
        "# Tuples in python\n",
        "\n",
        "# Tuples are immutable ( un changable )"
      ]
    },
    {
      "cell_type": "code",
      "source": [
        "# Creating a tuple\n",
        "\n",
        "tuple1 = (\"apple\",\"orange\",\"banana\")\n",
        "print(tuple1)"
      ],
      "metadata": {
        "colab": {
          "base_uri": "https://localhost:8080/"
        },
        "id": "Wtx42pSW43gT",
        "outputId": "c3eafb84-4fdd-4382-bf61-c374b8bd2982"
      },
      "execution_count": 2,
      "outputs": [
        {
          "output_type": "stream",
          "name": "stdout",
          "text": [
            "('apple', 'orange', 'banana')\n"
          ]
        }
      ]
    },
    {
      "cell_type": "code",
      "source": [
        "# length of the tuple\n",
        "\n",
        "length = tuple1.__len__()\n",
        "print(length)\n",
        "\n",
        "length1 = len(tuple1)\n",
        "print(length1)"
      ],
      "metadata": {
        "colab": {
          "base_uri": "https://localhost:8080/"
        },
        "id": "qk_MwoVn5GLe",
        "outputId": "46b0e1fb-987d-4fef-9301-49683116e981"
      },
      "execution_count": 5,
      "outputs": [
        {
          "output_type": "stream",
          "name": "stdout",
          "text": [
            "3\n",
            "3\n"
          ]
        }
      ]
    },
    {
      "cell_type": "code",
      "source": [
        "# Creating tuple with one item\n",
        "\n",
        "tuple2 = (\"apple\",)\n",
        "print(f\"{tuple2} is of type {type(tuple2)}\")\n",
        "\n",
        "tuple3 = (\"apple\")\n",
        "print(f\"{tuple3} is of type {type(tuple3)}\")"
      ],
      "metadata": {
        "colab": {
          "base_uri": "https://localhost:8080/"
        },
        "id": "EeJsQAoz5Pba",
        "outputId": "bea07439-0174-4338-ee0f-05fd2043723f"
      },
      "execution_count": 7,
      "outputs": [
        {
          "output_type": "stream",
          "name": "stdout",
          "text": [
            "('apple',) is of type <class 'tuple'>\n",
            "apple is of type <class 'str'>\n"
          ]
        }
      ]
    },
    {
      "cell_type": "code",
      "source": [
        "# tuple() Constructor\n",
        "\n",
        "tuple4 = tuple((\"apple\",\"orange\",\"banana\"))\n",
        "print(tuple4)"
      ],
      "metadata": {
        "colab": {
          "base_uri": "https://localhost:8080/"
        },
        "id": "UB6fm8tF5tRQ",
        "outputId": "f654c735-b7ff-4494-d2d2-91fdf4585102"
      },
      "execution_count": 8,
      "outputs": [
        {
          "output_type": "stream",
          "name": "stdout",
          "text": [
            "('apple', 'orange', 'banana')\n"
          ]
        }
      ]
    },
    {
      "cell_type": "code",
      "source": [
        "# Accessing the tuples\n",
        "\n",
        "print(tuple1[0])\n",
        "print(tuple1[1])\n",
        "print(tuple1[2])"
      ],
      "metadata": {
        "colab": {
          "base_uri": "https://localhost:8080/"
        },
        "id": "hHGofYqn58bC",
        "outputId": "89bbb733-722a-4068-d93c-471c030d59c2"
      },
      "execution_count": 9,
      "outputs": [
        {
          "output_type": "stream",
          "name": "stdout",
          "text": [
            "apple\n",
            "orange\n",
            "banana\n"
          ]
        }
      ]
    },
    {
      "cell_type": "code",
      "source": [
        "# negative indexing\n",
        "\n",
        "print(tuple1[-1])\n",
        "print(tuple1[-2])\n",
        "print(tuple1[-3])"
      ],
      "metadata": {
        "colab": {
          "base_uri": "https://localhost:8080/"
        },
        "id": "EpDENR2M6Ddy",
        "outputId": "39133e42-a9f5-4a80-d7e9-78489c24d758"
      },
      "execution_count": 10,
      "outputs": [
        {
          "output_type": "stream",
          "name": "stdout",
          "text": [
            "banana\n",
            "orange\n",
            "apple\n"
          ]
        }
      ]
    },
    {
      "cell_type": "code",
      "source": [
        "# range of indexes\n",
        "\n",
        "print(tuple1[0:2])"
      ],
      "metadata": {
        "colab": {
          "base_uri": "https://localhost:8080/"
        },
        "id": "zzQtxIlI6IYS",
        "outputId": "75779d9c-96f1-479a-c36e-538707412a51"
      },
      "execution_count": 11,
      "outputs": [
        {
          "output_type": "stream",
          "name": "stdout",
          "text": [
            "('apple', 'orange')\n"
          ]
        }
      ]
    },
    {
      "cell_type": "code",
      "source": [
        "# range of negative indexes\n",
        "\n",
        "print(tuple1[:-1])"
      ],
      "metadata": {
        "colab": {
          "base_uri": "https://localhost:8080/"
        },
        "id": "WXERDWhv6RFP",
        "outputId": "27be7f27-0c6c-46cd-e0a6-6a228f79c367"
      },
      "execution_count": 14,
      "outputs": [
        {
          "output_type": "stream",
          "name": "stdout",
          "text": [
            "('apple', 'orange')\n"
          ]
        }
      ]
    },
    {
      "cell_type": "code",
      "source": [
        "# Check if Item Exists\n",
        "\n",
        "if \"apple\" in tuple1:\n",
        "    print(\"Yes, 'apple' is in the fruits tuple\")"
      ],
      "metadata": {
        "colab": {
          "base_uri": "https://localhost:8080/"
        },
        "id": "ItpAULaj6awX",
        "outputId": "917dd695-f253-4b16-acc3-b8bec63c5be6"
      },
      "execution_count": 15,
      "outputs": [
        {
          "output_type": "stream",
          "name": "stdout",
          "text": [
            "Yes, 'apple' is in the fruits tuple\n"
          ]
        }
      ]
    },
    {
      "cell_type": "code",
      "source": [
        "# Update Tuple\n",
        "\n",
        "'''\n",
        "\n",
        "Once a tuple is created, you cannot change its values.\n",
        "Tuples are unchangeable, or immutable\n",
        "so we need to convert a tuple into a list, change the list, and convert the list back into a tuple.\n",
        "\n",
        "'''\n",
        "\n",
        "thistuple = (\"apple\", \"banana\", \"cherry\")\n",
        "y = list(thistuple)\n",
        "y[1] = \"kiwi\"\n",
        "thistuple = tuple(y)\n",
        "\n",
        "print(thistuple)"
      ],
      "metadata": {
        "colab": {
          "base_uri": "https://localhost:8080/"
        },
        "id": "pxZr_3wx6jEG",
        "outputId": "6121b3cf-3a8e-4a91-9c8f-1022bfb4c2d1"
      },
      "execution_count": 16,
      "outputs": [
        {
          "output_type": "stream",
          "name": "stdout",
          "text": [
            "('apple', 'kiwi', 'cherry')\n"
          ]
        }
      ]
    },
    {
      "cell_type": "code",
      "source": [
        "# add items\n",
        "\n",
        "thistuple = (\"apple\", \"banana\", \"cherry\")\n",
        "y = list(thistuple)\n",
        "y.append(\"orange\")\n",
        "thistuple = tuple(y)\n",
        "\n",
        "print(thistuple)"
      ],
      "metadata": {
        "colab": {
          "base_uri": "https://localhost:8080/"
        },
        "id": "CDegBW8l6_0C",
        "outputId": "266ed5ae-1e1f-4661-dc79-2c91a92634f3"
      },
      "execution_count": 17,
      "outputs": [
        {
          "output_type": "stream",
          "name": "stdout",
          "text": [
            "('apple', 'banana', 'cherry', 'orange')\n"
          ]
        }
      ]
    },
    {
      "cell_type": "code",
      "source": [
        "# remove items\n",
        "\n",
        "thistuple = (\"apple\", \"banana\", \"cherry\")\n",
        "y = list(thistuple)\n",
        "y.remove(\"apple\")\n",
        "thistuple = tuple(y)\n",
        "\n",
        "print(thistuple)"
      ],
      "metadata": {
        "colab": {
          "base_uri": "https://localhost:8080/"
        },
        "id": "U4rEex4I7JTQ",
        "outputId": "8e6b2881-dae4-468e-b1b2-0a33888fdaf6"
      },
      "execution_count": 18,
      "outputs": [
        {
          "output_type": "stream",
          "name": "stdout",
          "text": [
            "('banana', 'cherry')\n"
          ]
        }
      ]
    },
    {
      "cell_type": "code",
      "source": [
        "# Unpack tuples\n",
        "\n",
        "Names = (\"Nithish\",\"Mukesh Ram\",\"Sanjit\")\n",
        "(person1,person2,person3) = Names\n",
        "\n",
        "print(person1)\n",
        "print(person2)\n",
        "print(person3)"
      ],
      "metadata": {
        "colab": {
          "base_uri": "https://localhost:8080/"
        },
        "id": "nzejxc0_7O9g",
        "outputId": "cc963d8e-1c72-4a7b-b071-33464f219eec"
      },
      "execution_count": 19,
      "outputs": [
        {
          "output_type": "stream",
          "name": "stdout",
          "text": [
            "Nithish\n",
            "Mukesh Ram\n",
            "Sanjit\n"
          ]
        }
      ]
    },
    {
      "cell_type": "code",
      "source": [
        "#Using Asterisk*\n",
        "\n",
        "Names = (\"Nithish\",\"Mukesh Ram\",\"Sanjit\",\"Aakash\",\"John\")\n",
        "(person1,person2,*person3) = Names\n",
        "\n",
        "print(person1)\n",
        "print(person2)\n",
        "print(\"\\n\")\n",
        "print(person3)"
      ],
      "metadata": {
        "colab": {
          "base_uri": "https://localhost:8080/"
        },
        "id": "LLMlaQnc7qNH",
        "outputId": "fae64076-bb1a-4067-d794-84ecf67846b8"
      },
      "execution_count": 20,
      "outputs": [
        {
          "output_type": "stream",
          "name": "stdout",
          "text": [
            "Nithish\n",
            "Mukesh Ram\n",
            "\n",
            "\n",
            "['Sanjit', 'Aakash', 'John']\n"
          ]
        }
      ]
    },
    {
      "cell_type": "code",
      "source": [
        "# loop in tuples\n",
        "\n",
        "Names = (\"Nithish\",\"Mukesh Ram\",\"Sanjit\",\"Aakash\",\"John\")\n",
        "\n",
        "for val in Names:\n",
        "  print(val)"
      ],
      "metadata": {
        "colab": {
          "base_uri": "https://localhost:8080/"
        },
        "id": "WToZ3W5k8CHs",
        "outputId": "9095f8f3-4d09-44e1-ed4d-b7c1c558dee2"
      },
      "execution_count": 21,
      "outputs": [
        {
          "output_type": "stream",
          "name": "stdout",
          "text": [
            "Nithish\n",
            "Mukesh Ram\n",
            "Sanjit\n",
            "Aakash\n",
            "John\n"
          ]
        }
      ]
    },
    {
      "cell_type": "code",
      "source": [
        "i = 0\n",
        "\n",
        "while(i<len(Names)):\n",
        "  print(Names[i])\n",
        "  i+=1"
      ],
      "metadata": {
        "colab": {
          "base_uri": "https://localhost:8080/"
        },
        "id": "HB1WfBOo79sX",
        "outputId": "636d841a-ce67-4cf3-898e-e83de34ebbbe"
      },
      "execution_count": 22,
      "outputs": [
        {
          "output_type": "stream",
          "name": "stdout",
          "text": [
            "Nithish\n",
            "Mukesh Ram\n",
            "Sanjit\n",
            "Aakash\n",
            "John\n"
          ]
        }
      ]
    },
    {
      "cell_type": "code",
      "source": [
        "# Join two tuples\n",
        "\n",
        "tup1 = (\"Nithish\",\"Mukesh Ram\",\"Sanjit\")\n",
        "tup2 = (\"Aakash\",\"John\")\n",
        "\n",
        "tup3 = tup1 + tup2\n",
        "print(tup3)\n"
      ],
      "metadata": {
        "colab": {
          "base_uri": "https://localhost:8080/"
        },
        "id": "0a1qkdA38Vh_",
        "outputId": "86ba7328-4af4-4652-e751-2dfee32ff962"
      },
      "execution_count": 23,
      "outputs": [
        {
          "output_type": "stream",
          "name": "stdout",
          "text": [
            "('Nithish', 'Mukesh Ram', 'Sanjit', 'Aakash', 'John')\n"
          ]
        }
      ]
    },
    {
      "cell_type": "code",
      "source": [
        "# Multiply Tuples\n",
        "\n",
        "tup4 = tup1 * 2\n",
        "print(tup4)"
      ],
      "metadata": {
        "colab": {
          "base_uri": "https://localhost:8080/"
        },
        "id": "K8EY8Zmk8mjT",
        "outputId": "a0015359-05b3-4faa-acb1-347b347c9f81"
      },
      "execution_count": 24,
      "outputs": [
        {
          "output_type": "stream",
          "name": "stdout",
          "text": [
            "('Nithish', 'Mukesh Ram', 'Sanjit', 'Nithish', 'Mukesh Ram', 'Sanjit')\n"
          ]
        }
      ]
    },
    {
      "cell_type": "code",
      "source": [
        "'''\n",
        "Tuple Methods :\n",
        "\n",
        "\n",
        "Method \t Description\n",
        "\n",
        "count()\t Returns the number of times a specified value occurs in a tuple\n",
        "index()\t Searches the tuple for a specified value and returns the position of where it was found\n",
        "\n",
        "'''\n",
        "\n",
        "print('\\n')"
      ],
      "metadata": {
        "colab": {
          "base_uri": "https://localhost:8080/"
        },
        "id": "c00VvtOA8uII",
        "outputId": "bc297535-7302-4698-c43d-cb977929fc0b"
      },
      "execution_count": 25,
      "outputs": [
        {
          "output_type": "stream",
          "name": "stdout",
          "text": [
            "\n",
            "\n"
          ]
        }
      ]
    },
    {
      "cell_type": "code",
      "source": [],
      "metadata": {
        "id": "N2DBq7SP9S2W"
      },
      "execution_count": null,
      "outputs": []
    }
  ]
}