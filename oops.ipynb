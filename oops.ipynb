{
  "nbformat": 4,
  "nbformat_minor": 0,
  "metadata": {
    "colab": {
      "provenance": [],
      "authorship_tag": "ABX9TyPYLhmkjmW0FIDQ6EYcq/PK",
      "include_colab_link": true
    },
    "kernelspec": {
      "name": "python3",
      "display_name": "Python 3"
    },
    "language_info": {
      "name": "python"
    }
  },
  "cells": [
    {
      "cell_type": "markdown",
      "metadata": {
        "id": "view-in-github",
        "colab_type": "text"
      },
      "source": [
        "<a href=\"https://colab.research.google.com/github/NithishXplorer/Python/blob/main/oops.ipynb\" target=\"_parent\"><img src=\"https://colab.research.google.com/assets/colab-badge.svg\" alt=\"Open In Colab\"/></a>"
      ]
    },
    {
      "cell_type": "code",
      "execution_count": 3,
      "metadata": {
        "colab": {
          "base_uri": "https://localhost:8080/"
        },
        "id": "SmXdHHZ4AjmH",
        "outputId": "bd25b45a-4c8e-4015-d7cd-1c3b6e1bb994"
      },
      "outputs": [
        {
          "output_type": "stream",
          "name": "stdout",
          "text": [
            "Welcome to Class !\n"
          ]
        }
      ],
      "source": [
        "# Creating class and objects\n",
        "\n",
        "class class_name :\n",
        "  def welcome(self) :\n",
        "    print(\"Welcome to Class !\")\n",
        "\n",
        "obj = class_name()\n",
        "obj.welcome() # obj.welcome(obj)"
      ]
    },
    {
      "cell_type": "code",
      "source": [
        "# Creating multiple objects\n",
        "\n",
        "class Student :\n",
        "  def __init__(self, name, age, grade) :\n",
        "    self.name = name\n",
        "    self.age = age\n",
        "    self.grade = grade\n",
        "  def display(self) :\n",
        "    print(f\"Name : {self.name}\")\n",
        "    print(f\"Age : {self.age}\")\n",
        "    print(f\"Grade : {self.grade}\")\n",
        "\n",
        "obj1 = Student(\"Nithish\",21,\"A\")\n",
        "obj2 = Student(\"Mukesh Ram\",20,\"O\")\n",
        "obj3 = Student(\"Sanjith\",23,\"A\")\n",
        "\n",
        "obj1.display()\n",
        "print(\"\\n\")\n",
        "obj2.display()\n",
        "print(\"\\n\")\n",
        "obj3.display()"
      ],
      "metadata": {
        "colab": {
          "base_uri": "https://localhost:8080/"
        },
        "id": "aZmG-8VKBHN0",
        "outputId": "7097716c-d67f-463f-96cd-af6696350468"
      },
      "execution_count": 10,
      "outputs": [
        {
          "output_type": "stream",
          "name": "stdout",
          "text": [
            "Name : Nithish\n",
            "Age : 21\n",
            "Grade : A\n",
            "\n",
            "\n",
            "Name : Mukesh Ram\n",
            "Age : 20\n",
            "Grade : O\n",
            "\n",
            "\n",
            "Name : Sanjith\n",
            "Age : 23\n",
            "Grade : A\n"
          ]
        }
      ]
    },
    {
      "cell_type": "code",
      "source": [],
      "metadata": {
        "id": "ymWiB7AiCAm1"
      },
      "execution_count": null,
      "outputs": []
    }
  ]
}