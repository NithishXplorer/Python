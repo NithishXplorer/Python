{
  "nbformat": 4,
  "nbformat_minor": 0,
  "metadata": {
    "colab": {
      "provenance": [],
      "authorship_tag": "ABX9TyOrZZ0m67ukZ5mNTGjaW3eR",
      "include_colab_link": true
    },
    "kernelspec": {
      "name": "python3",
      "display_name": "Python 3"
    },
    "language_info": {
      "name": "python"
    }
  },
  "cells": [
    {
      "cell_type": "markdown",
      "metadata": {
        "id": "view-in-github",
        "colab_type": "text"
      },
      "source": [
        "<a href=\"https://colab.research.google.com/github/NithishXplorer/Python/blob/main/Set.ipynb\" target=\"_parent\"><img src=\"https://colab.research.google.com/assets/colab-badge.svg\" alt=\"Open In Colab\"/></a>"
      ]
    },
    {
      "cell_type": "code",
      "execution_count": null,
      "metadata": {
        "id": "qVK99ISqdwzR"
      },
      "outputs": [],
      "source": [
        "# Set : A set is a collection which is unordered, unchangeable*, and unindexed."
      ]
    },
    {
      "cell_type": "code",
      "source": [
        "# Create a set\n",
        "set1 = {1,2,3,4,5}\n",
        "set2 = {\"Nithish\", \"Sanjith\", \"Mukesh\", \"John\", \"Berjin\", \"Aakash\"}\n",
        "print(set1)\n",
        "print(\"\\n\")\n",
        "print(set2)\n",
        "\n",
        "#set accept multiple data types\n",
        "set3 = {1, \"Nithish\", 1.2, False}\n",
        "print(\"\\n\")\n",
        "print(set3)\n",
        "\n",
        "# type\n",
        "print(\"\\nType : \",type(set3))"
      ],
      "metadata": {
        "colab": {
          "base_uri": "https://localhost:8080/"
        },
        "id": "3OK5Y9J2eBu7",
        "outputId": "ca30a2a2-75ea-4885-d051-8a2673a2781f"
      },
      "execution_count": null,
      "outputs": [
        {
          "output_type": "stream",
          "name": "stdout",
          "text": [
            "{1, 2, 3, 4, 5}\n",
            "\n",
            "\n",
            "{'Sanjith', 'Berjin', 'Nithish', 'Aakash', 'Mukesh', 'John'}\n",
            "\n",
            "\n",
            "{False, 1, 'Nithish', 1.2}\n",
            "\n",
            "Type :  <class 'set'>\n"
          ]
        }
      ]
    },
    {
      "cell_type": "code",
      "source": [
        "# length of the set\n",
        "\n",
        "print(\"Length of set1 : \",len(set1))\n",
        "print(\"Length of set2 : \",len(set2))"
      ],
      "metadata": {
        "colab": {
          "base_uri": "https://localhost:8080/"
        },
        "id": "mswUhpYceaUR",
        "outputId": "10e04b1c-bad9-43f3-d1a5-000a1dd6538c"
      },
      "execution_count": null,
      "outputs": [
        {
          "output_type": "stream",
          "name": "stdout",
          "text": [
            "Length of set1 :  5\n",
            "Length of set2 :  6\n"
          ]
        }
      ]
    },
    {
      "cell_type": "code",
      "source": [
        "# Convert list to set\n",
        "\n",
        "list1 = [\"Nithish\",\"Berjin\",\"Nithish\",\"Mukesh\",\"Sanjith\",\"John\",\"Aakash\",\"Mukesh\"]\n",
        "\n",
        "set4 = set(list1) # Duplicate elements are removed while converting list to set\n",
        "print(set4)"
      ],
      "metadata": {
        "colab": {
          "base_uri": "https://localhost:8080/"
        },
        "id": "6RMBFS2zfZPU",
        "outputId": "a219cfaa-a6eb-47f4-c35e-925a28f4c21d"
      },
      "execution_count": null,
      "outputs": [
        {
          "output_type": "stream",
          "name": "stdout",
          "text": [
            "{'Sanjith', 'Aakash', 'John', 'Berjin', 'Nithish', 'Mukesh'}\n"
          ]
        }
      ]
    },
    {
      "cell_type": "code",
      "source": [
        "# Access element in set :\n",
        "\n",
        "# You cannot access items in a set by referring to an index or a key.\n",
        "# But you can loop through the set items using a for loop, or ask if a specified value is present in a set, by using the in keyword.\n"
      ],
      "metadata": {
        "colab": {
          "base_uri": "https://localhost:8080/"
        },
        "id": "tizaoGrVf0OZ",
        "outputId": "16ccf344-1c6b-47cb-b96c-9a0157af1639"
      },
      "execution_count": null,
      "outputs": [
        {
          "output_type": "stream",
          "name": "stdout",
          "text": [
            "Sanjith\n",
            "Berjin\n",
            "Nithish\n",
            "Aakash\n",
            "Mukesh\n",
            "John\n"
          ]
        }
      ]
    },
    {
      "cell_type": "code",
      "source": [
        "set5 = {\"Nithish\", \"Sanjith\", \"Mukesh\", \"John\", \"Berjin\", \"Aakash\"}\n",
        "\n",
        "for val in set5 :\n",
        "  print(val)\n",
        "\n",
        "print(\"\\n\")\n",
        "print(\"John\" in set5)\n",
        "print(\"John\" not in set5)\n",
        "print(\"Kumar\" not in set5)"
      ],
      "metadata": {
        "colab": {
          "base_uri": "https://localhost:8080/"
        },
        "id": "eMOMOV3ugsAK",
        "outputId": "b6e8c866-3a54-4daf-c066-4d950789fc5e"
      },
      "execution_count": null,
      "outputs": [
        {
          "output_type": "stream",
          "name": "stdout",
          "text": [
            "Sanjith\n",
            "Berjin\n",
            "Nithish\n",
            "Aakash\n",
            "Mukesh\n",
            "John\n",
            "\n",
            "\n",
            "True\n",
            "False\n",
            "True\n"
          ]
        }
      ]
    },
    {
      "cell_type": "code",
      "source": [
        "# add items in set\n",
        "\n",
        "set5 = {\"Nithish\", \"Sanjith\", \"Mukesh\", \"John\", \"Berjin\", \"Aakash\"}\n",
        "\n",
        "set5.add(\"Kumar\")\n",
        "print(set5)\n",
        "\n",
        "\n",
        "# To add items from another set into the current set, use the update() method.\n",
        "set5.update(set1)\n",
        "print(set5)"
      ],
      "metadata": {
        "colab": {
          "base_uri": "https://localhost:8080/"
        },
        "id": "RvY9LNspguUC",
        "outputId": "f8134604-fcc7-411c-f12d-a372e1c3e362"
      },
      "execution_count": null,
      "outputs": [
        {
          "output_type": "stream",
          "name": "stdout",
          "text": [
            "{'Sanjith', 'Berjin', 'Nithish', 'Aakash', 'Kumar', 'Mukesh', 'John'}\n",
            "{'Sanjith', 1, 2, 'Aakash', 'Kumar', 3, 4, 5, 'John', 'Berjin', 'Nithish', 'Mukesh'}\n"
          ]
        }
      ]
    },
    {
      "cell_type": "code",
      "source": [
        "# You can also add list to set by using update() method\n",
        "\n",
        "set6 = {1,2,3}\n",
        "list1 = [4,5,2]\n",
        "\n",
        "set6.update(list1)\n",
        "print(set6)"
      ],
      "metadata": {
        "colab": {
          "base_uri": "https://localhost:8080/"
        },
        "id": "iwFV5dsMhPpQ",
        "outputId": "c2689a77-9eaa-427c-a45b-4a26d05d69b4"
      },
      "execution_count": null,
      "outputs": [
        {
          "output_type": "stream",
          "name": "stdout",
          "text": [
            "{1, 2, 3, 4, 5}\n"
          ]
        }
      ]
    },
    {
      "cell_type": "code",
      "source": [
        "# Remove a item\n",
        "\n",
        "set5 = {\"Nithish\", \"Sanjith\", \"Mukesh\", \"John\", \"Berjin\", \"Aakash\"}\n",
        "set5.remove(\"John\")\n",
        "print(set5)"
      ],
      "metadata": {
        "colab": {
          "base_uri": "https://localhost:8080/"
        },
        "id": "EjtXAL61iZCg",
        "outputId": "9dbe3f7e-fba1-4300-b2a6-12ab6432799c"
      },
      "execution_count": null,
      "outputs": [
        {
          "output_type": "stream",
          "name": "stdout",
          "text": [
            "{'Sanjith', 'Berjin', 'Nithish', 'Aakash', 'Mukesh'}\n"
          ]
        }
      ]
    },
    {
      "cell_type": "code",
      "source": [
        "set5.remove(\"John\") # If the element not found it raises error"
      ],
      "metadata": {
        "colab": {
          "base_uri": "https://localhost:8080/",
          "height": 141
        },
        "id": "NKAZrJruinVx",
        "outputId": "78a25378-db92-432e-f150-2573d93465fe"
      },
      "execution_count": null,
      "outputs": [
        {
          "output_type": "error",
          "ename": "KeyError",
          "evalue": "'John'",
          "traceback": [
            "\u001b[0;31m---------------------------------------------------------------------------\u001b[0m",
            "\u001b[0;31mKeyError\u001b[0m                                  Traceback (most recent call last)",
            "\u001b[0;32m<ipython-input-26-4017536813>\u001b[0m in \u001b[0;36m<cell line: 0>\u001b[0;34m()\u001b[0m\n\u001b[0;32m----> 1\u001b[0;31m \u001b[0mset5\u001b[0m\u001b[0;34m.\u001b[0m\u001b[0mremove\u001b[0m\u001b[0;34m(\u001b[0m\u001b[0;34m\"John\"\u001b[0m\u001b[0;34m)\u001b[0m\u001b[0;34m\u001b[0m\u001b[0;34m\u001b[0m\u001b[0m\n\u001b[0m",
            "\u001b[0;31mKeyError\u001b[0m: 'John'"
          ]
        }
      ]
    },
    {
      "cell_type": "code",
      "source": [
        "# We can remove safely by using discard function\n",
        "\n",
        "set5.discard(\"Sanjith\")\n",
        "print(set5)\n",
        "\n",
        "set5.discard(\"Sanjith\")\n",
        "print(set5)"
      ],
      "metadata": {
        "colab": {
          "base_uri": "https://localhost:8080/"
        },
        "id": "62HQDxVairro",
        "outputId": "7f0d0eb0-db60-4c28-d6c4-207ee1119143"
      },
      "execution_count": null,
      "outputs": [
        {
          "output_type": "stream",
          "name": "stdout",
          "text": [
            "{'Berjin', 'Nithish', 'Aakash', 'Mukesh'}\n",
            "{'Berjin', 'Nithish', 'Aakash', 'Mukesh'}\n"
          ]
        }
      ]
    },
    {
      "cell_type": "code",
      "source": [
        "# loop through set\n",
        "\n",
        "set5 = {\"Nithish\", \"Sanjith\", \"Mukesh\", \"John\", \"Berjin\", \"Aakash\"}\n",
        "\n",
        "for val in set5 :\n",
        "  print(val)"
      ],
      "metadata": {
        "id": "AMY7LUeIjFr3",
        "colab": {
          "base_uri": "https://localhost:8080/"
        },
        "outputId": "ec23b4c2-2036-4eee-e4ae-f2beecaefe82"
      },
      "execution_count": 28,
      "outputs": [
        {
          "output_type": "stream",
          "name": "stdout",
          "text": [
            "Sanjith\n",
            "Berjin\n",
            "Nithish\n",
            "Aakash\n",
            "Mukesh\n",
            "John\n"
          ]
        }
      ]
    },
    {
      "cell_type": "code",
      "source": [
        "# Join Sets\n",
        "\n",
        "'''\n",
        "\n",
        "There are several ways to join two or more sets in Python.\n",
        "\n",
        "The union() and update() methods joins all items from both sets.\n",
        "\n",
        "The intersection() method keeps ONLY the duplicates.\n",
        "\n",
        "The difference() method keeps the items from the first set that are not in the other set(s).\n",
        "\n",
        "The symmetric_difference() method keeps all items EXCEPT the duplicates.\n",
        "\n",
        "'''"
      ],
      "metadata": {
        "colab": {
          "base_uri": "https://localhost:8080/",
          "height": 52
        },
        "id": "Jn_dZs0xjlOP",
        "outputId": "d5101fa6-6f92-4de9-84fc-1ae67ff5059d"
      },
      "execution_count": 29,
      "outputs": [
        {
          "output_type": "execute_result",
          "data": {
            "text/plain": [
              "'\\n\\nThere are several ways to join two or more sets in Python.\\n\\nThe union() and update() methods joins all items from both sets.\\n\\nThe intersection() method keeps ONLY the duplicates.\\n\\nThe difference() method keeps the items from the first set that are not in the other set(s).\\n\\nThe symmetric_difference() method keeps all items EXCEPT the duplicates.\\n\\n'"
            ],
            "application/vnd.google.colaboratory.intrinsic+json": {
              "type": "string"
            }
          },
          "metadata": {},
          "execution_count": 29
        }
      ]
    },
    {
      "cell_type": "code",
      "source": [
        "set1 = {\"Nithish\", \"Sanjith\"}\n",
        "set2 = {\"Mukesh\", \"John\"}\n",
        "set3 = {\"Berjin\", \"Aakash\"}\n",
        "\n",
        "print(set1)\n",
        "print(set1)\n",
        "print(set2)\n",
        "print(\"\\n\")\n",
        "\n",
        "# Union  ->  We can able to join multiple sets\n",
        "set1.union(set2,set3)\n"
      ],
      "metadata": {
        "colab": {
          "base_uri": "https://localhost:8080/"
        },
        "id": "GUd0cXI5kpC3",
        "outputId": "995c53ec-fb98-4834-a1a6-622c0dbb9808"
      },
      "execution_count": 32,
      "outputs": [
        {
          "output_type": "stream",
          "name": "stdout",
          "text": [
            "{'Sanjith', 'Nithish'}\n",
            "{'Sanjith', 'Nithish'}\n",
            "{'Mukesh', 'John'}\n",
            "\n",
            "\n"
          ]
        },
        {
          "output_type": "execute_result",
          "data": {
            "text/plain": [
              "{'Aakash', 'Berjin', 'John', 'Mukesh', 'Nithish', 'Sanjith'}"
            ]
          },
          "metadata": {},
          "execution_count": 32
        }
      ]
    },
    {
      "cell_type": "code",
      "source": [
        "# Intersection\n",
        "\n",
        "set1 = {\"Nithish\", \"Sanjith\", \"Mukesh\", \"John\", \"Berjin\", \"Aakash\"}\n",
        "set2 = {\"Mukesh\", \"John\"}\n",
        "print(set1)\n",
        "print(set2)\n",
        "\n",
        "print(\"\\n\")\n",
        "set1.intersection(set2)"
      ],
      "metadata": {
        "colab": {
          "base_uri": "https://localhost:8080/"
        },
        "id": "bAXj793rlKvr",
        "outputId": "4aa3b7e8-1143-4a4e-fd05-4ce5637cfb1c"
      },
      "execution_count": 35,
      "outputs": [
        {
          "output_type": "stream",
          "name": "stdout",
          "text": [
            "{'Sanjith', 'Berjin', 'Nithish', 'Aakash', 'Mukesh', 'John'}\n",
            "{'Mukesh', 'John'}\n",
            "\n",
            "\n"
          ]
        },
        {
          "output_type": "execute_result",
          "data": {
            "text/plain": [
              "{'John', 'Mukesh'}"
            ]
          },
          "metadata": {},
          "execution_count": 35
        }
      ]
    },
    {
      "cell_type": "code",
      "source": [
        "# Difference\n",
        "\n",
        "set1 = {\"Nithish\", \"Sanjith\", \"Mukesh\", \"John\", \"Berjin\", \"Aakash\"}\n",
        "set2 = {\"Mukesh\", \"John\"}\n",
        "print(set1)\n",
        "print(set2)\n",
        "\n",
        "print(\"\\n\")\n",
        "set1.difference(set2)"
      ],
      "metadata": {
        "colab": {
          "base_uri": "https://localhost:8080/"
        },
        "id": "WgqR4J9zlgLD",
        "outputId": "7d1b7930-81e7-4ce3-847a-61fd791ad7dc"
      },
      "execution_count": 36,
      "outputs": [
        {
          "output_type": "stream",
          "name": "stdout",
          "text": [
            "{'Sanjith', 'Berjin', 'Nithish', 'Aakash', 'Mukesh', 'John'}\n",
            "{'Mukesh', 'John'}\n",
            "\n",
            "\n"
          ]
        },
        {
          "output_type": "execute_result",
          "data": {
            "text/plain": [
              "{'Aakash', 'Berjin', 'Nithish', 'Sanjith'}"
            ]
          },
          "metadata": {},
          "execution_count": 36
        }
      ]
    },
    {
      "cell_type": "code",
      "source": [
        "# we can able to join a set and tuple\n",
        "\n",
        "set1 = {1,2,3}\n",
        "tuple1 = {5,6,7}\n",
        "\n",
        "set1.union(tuple1)"
      ],
      "metadata": {
        "colab": {
          "base_uri": "https://localhost:8080/"
        },
        "id": "8Hc5z55alpUM",
        "outputId": "c5b4faa9-5569-40df-f69a-8c2a1553e182"
      },
      "execution_count": 37,
      "outputs": [
        {
          "output_type": "execute_result",
          "data": {
            "text/plain": [
              "{1, 2, 3, 5, 6, 7}"
            ]
          },
          "metadata": {},
          "execution_count": 37
        }
      ]
    },
    {
      "cell_type": "code",
      "source": [
        "# symmetric difference\n",
        "\n",
        "set1 = {\"Nithish\", \"Sanjith\", \"Mukesh\", \"John\", \"Berjin\", \"Aakash\"}\n",
        "set2 = {\"Mukesh\", \"John\",\"ranjith\",\"suresh\"}\n",
        "print(set1)\n",
        "print(set2)\n",
        "\n",
        "print(\"\\n\")\n",
        "set1.symmetric_difference(set2)"
      ],
      "metadata": {
        "colab": {
          "base_uri": "https://localhost:8080/"
        },
        "id": "Nflwxsr9mEb3",
        "outputId": "da36fe71-9b21-4531-ba96-9e0a71d9b31f"
      },
      "execution_count": 38,
      "outputs": [
        {
          "output_type": "stream",
          "name": "stdout",
          "text": [
            "{'Sanjith', 'Berjin', 'Nithish', 'Aakash', 'Mukesh', 'John'}\n",
            "{'Mukesh', 'John', 'ranjith', 'suresh'}\n",
            "\n",
            "\n"
          ]
        },
        {
          "output_type": "execute_result",
          "data": {
            "text/plain": [
              "{'Aakash', 'Berjin', 'Nithish', 'Sanjith', 'ranjith', 'suresh'}"
            ]
          },
          "metadata": {},
          "execution_count": 38
        }
      ]
    },
    {
      "cell_type": "code",
      "source": [
        "# for union we can use | operator\n",
        "\n",
        "# for intersection we can use & operator\n",
        "\n",
        "# for difference we can use - operator\n",
        "\n",
        "# for symmetric we can use ^ operator\n",
        "\n",
        "set7 = {1,2,3,4,5}\n",
        "set8 = {4,5,6,7,8}\n",
        "\n",
        "print(set7 | set8)\n",
        "print(set7 & set8)\n",
        "print(set7 - set8)\n",
        "print(set7 ^ set8)"
      ],
      "metadata": {
        "colab": {
          "base_uri": "https://localhost:8080/"
        },
        "id": "QqrXGxV5mZrp",
        "outputId": "33d166d2-2219-44f8-d93e-d9004033d878"
      },
      "execution_count": 39,
      "outputs": [
        {
          "output_type": "stream",
          "name": "stdout",
          "text": [
            "{1, 2, 3, 4, 5, 6, 7, 8}\n",
            "{4, 5}\n",
            "{1, 2, 3}\n",
            "{1, 2, 3, 6, 7, 8}\n"
          ]
        }
      ]
    },
    {
      "cell_type": "code",
      "source": [
        "'''\n",
        "\n",
        "Method \t                      Shortcut \t  Description\n",
        "add() \t  \t                              Adds an element to the set\n",
        "clear() \t  \t                            Removes all the elements from the set\n",
        "copy() \t  \t                              Returns a copy of the set\n",
        "difference() \t                  - \t      Returns a set containing the difference between two or more sets\n",
        "difference_update() \t          -= \t      Removes the items in this set that are also included in another, specified set\n",
        "discard() \t  \t                          Remove the specified item\n",
        "intersection() \t                & \t      Returns a set, that is the intersection of two other sets\n",
        "intersection_update()   \t      &= \t      Removes the items in this set that are not present in other, specified set(s)\n",
        "isdisjoint() \t  \t                        Returns whether two sets have a intersection or not\n",
        "issubset() \t                    <= \t      Returns whether another set contains this set or not\n",
        "  \t                            < \t      Returns whether all items in this set is present in other, specified set(s)\n",
        "issuperset() \t                  >= \t      Returns whether this set contains another set or not\n",
        "  \t                            > \t      Returns whether all items in other, specified set(s) is present in this set\n",
        "pop() \t  \t                              Removes an element from the set\n",
        "remove() \t  \t                            Removes the specified element\n",
        "symmetric_difference() \t        ^ \t      Returns a set with the symmetric differences of two sets\n",
        "symmetric_difference_update() \t^= \t      Inserts the symmetric differences from this set and another\n",
        "union() \t                      | \t      Return a set containing the union of sets\n",
        "update() \t                      |= \t      Update the set with the union of this set and others\n",
        "\n",
        "'''\n",
        "\n",
        "print(\"\\n\")"
      ],
      "metadata": {
        "colab": {
          "base_uri": "https://localhost:8080/"
        },
        "id": "xYtCxzSym75R",
        "outputId": "400300a6-5917-4039-a321-cd781c75b676"
      },
      "execution_count": 40,
      "outputs": [
        {
          "output_type": "stream",
          "name": "stdout",
          "text": [
            "\n",
            "\n"
          ]
        }
      ]
    },
    {
      "cell_type": "code",
      "source": [],
      "metadata": {
        "id": "5M_d98IqoPc2"
      },
      "execution_count": null,
      "outputs": []
    }
  ]
}