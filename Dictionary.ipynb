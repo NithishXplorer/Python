{
  "nbformat": 4,
  "nbformat_minor": 0,
  "metadata": {
    "colab": {
      "provenance": [],
      "authorship_tag": "ABX9TyNUzPDgmJU50czKSbJBc/hR",
      "include_colab_link": true
    },
    "kernelspec": {
      "name": "python3",
      "display_name": "Python 3"
    },
    "language_info": {
      "name": "python"
    }
  },
  "cells": [
    {
      "cell_type": "markdown",
      "metadata": {
        "id": "view-in-github",
        "colab_type": "text"
      },
      "source": [
        "<a href=\"https://colab.research.google.com/github/NithishXplorer/Python/blob/main/Dictionary.ipynb\" target=\"_parent\"><img src=\"https://colab.research.google.com/assets/colab-badge.svg\" alt=\"Open In Colab\"/></a>"
      ]
    },
    {
      "cell_type": "code",
      "execution_count": null,
      "metadata": {
        "id": "_Aq250g2vFTJ"
      },
      "outputs": [],
      "source": [
        "# Dictionaries\n",
        "\n",
        "# Dictionaries are used to store data values in key:value pairs.\n",
        "# A dictionary is a collection which is ordered*, changeable and do not allow duplicates.\n",
        "# Dictionaries are written with curly brackets, and have keys and values"
      ]
    },
    {
      "cell_type": "code",
      "source": [
        "# creating a dictionary\n",
        "\n",
        "dict1 = {\n",
        "    \"name\" : \"Nithish\",\n",
        "    \"age\" : 21,\n",
        "    \"gender\" : \"male\",\n",
        "    \"cource\" : \"python\",\n",
        "    \"department\" : \"aids\",\n",
        "    \"Hobby\" : \"playing cricket\"\n",
        "}\n",
        "\n",
        "print(dict1)"
      ],
      "metadata": {
        "colab": {
          "base_uri": "https://localhost:8080/"
        },
        "id": "vHXvgWHCvXEV",
        "outputId": "afa0de3c-1476-4b40-d371-465ed5ffd7c2"
      },
      "execution_count": null,
      "outputs": [
        {
          "output_type": "stream",
          "name": "stdout",
          "text": [
            "{'name': 'Nithish', 'age': 21, 'gender': 'male', 'cource': 'python', 'department': 'aids', 'Hobby': 'playing cricket'}\n"
          ]
        }
      ]
    },
    {
      "cell_type": "code",
      "source": [
        "# To calculate the length of the dictionary\n",
        "length = len(dict1)\n",
        "print(length)"
      ],
      "metadata": {
        "colab": {
          "base_uri": "https://localhost:8080/"
        },
        "id": "HtGhZGP2wNtg",
        "outputId": "8fbd7304-98f6-4439-91e0-4ff152eae2e0"
      },
      "execution_count": null,
      "outputs": [
        {
          "output_type": "stream",
          "name": "stdout",
          "text": [
            "6\n"
          ]
        }
      ]
    },
    {
      "cell_type": "code",
      "source": [
        "# Accept multiple data types\n",
        "\n",
        "thisdict =\t{\n",
        "  \"brand\": \"Ford\",\n",
        "  \"electric\": False,\n",
        "  \"year\": 1964,\n",
        "  \"colors\": [\"red\", \"white\", \"blue\"]\n",
        "}\n",
        "\n",
        "print(thisdict)"
      ],
      "metadata": {
        "colab": {
          "base_uri": "https://localhost:8080/"
        },
        "id": "CBiZy4JfwYcN",
        "outputId": "a659189c-c272-4edb-d4b1-5104616ffac5"
      },
      "execution_count": null,
      "outputs": [
        {
          "output_type": "stream",
          "name": "stdout",
          "text": [
            "{'brand': 'Ford', 'electric': False, 'year': 1964, 'colors': ['red', 'white', 'blue']}\n"
          ]
        }
      ]
    },
    {
      "cell_type": "code",
      "source": [
        "# type of the dictionary\n",
        "\n",
        "print(type(dict1))"
      ],
      "metadata": {
        "colab": {
          "base_uri": "https://localhost:8080/"
        },
        "id": "jEEL0C03wj3H",
        "outputId": "b0a90dd8-c435-431b-8480-55401b732705"
      },
      "execution_count": null,
      "outputs": [
        {
          "output_type": "stream",
          "name": "stdout",
          "text": [
            "<class 'dict'>\n"
          ]
        }
      ]
    },
    {
      "cell_type": "code",
      "source": [
        "# To access the items in  dictionary\n",
        "\n",
        "print(dict1[\"name\"])\n",
        "print(dict1[\"age\"])\n",
        "print(dict1[\"gender\"])\n",
        "print(dict1[\"cource\"])\n",
        "print(dict1[\"department\"])\n",
        "print(dict1[\"Hobby\"])"
      ],
      "metadata": {
        "colab": {
          "base_uri": "https://localhost:8080/"
        },
        "id": "iAkrqTRMwtgP",
        "outputId": "278e17cf-7071-4c57-f765-4f9ef55fe1a2"
      },
      "execution_count": null,
      "outputs": [
        {
          "output_type": "stream",
          "name": "stdout",
          "text": [
            "Nithish\n",
            "21\n",
            "male\n",
            "python\n",
            "aids\n",
            "playing cricket\n"
          ]
        }
      ]
    },
    {
      "cell_type": "code",
      "source": [
        "x = dict1.get(\"name\")\n",
        "print(x)"
      ],
      "metadata": {
        "colab": {
          "base_uri": "https://localhost:8080/"
        },
        "id": "xMZ05QLnw1Yx",
        "outputId": "0d77770f-1f3e-488f-e7de-86a02b3c8a54"
      },
      "execution_count": null,
      "outputs": [
        {
          "output_type": "stream",
          "name": "stdout",
          "text": [
            "Nithish\n"
          ]
        }
      ]
    },
    {
      "cell_type": "code",
      "source": [
        "print(dict1.keys())\n",
        "print(\"\\n\")\n",
        "print(dict1.values())"
      ],
      "metadata": {
        "colab": {
          "base_uri": "https://localhost:8080/"
        },
        "id": "ptqznxw6w9eE",
        "outputId": "3eed0aad-5376-49a2-b80c-eee4e19776d4"
      },
      "execution_count": null,
      "outputs": [
        {
          "output_type": "stream",
          "name": "stdout",
          "text": [
            "dict_keys(['name', 'age', 'gender', 'cource', 'department', 'Hobby'])\n",
            "\n",
            "\n",
            "dict_values(['Nithish', 21, 'male', 'python', 'aids', 'playing cricket'])\n"
          ]
        }
      ]
    },
    {
      "cell_type": "code",
      "source": [
        "for key,value in dict1.items():\n",
        "    print(f\"{key} : {value}\")"
      ],
      "metadata": {
        "colab": {
          "base_uri": "https://localhost:8080/"
        },
        "id": "WXGQtK41xF2n",
        "outputId": "ad894189-f098-47c2-c9ef-385be78f8c63"
      },
      "execution_count": null,
      "outputs": [
        {
          "output_type": "stream",
          "name": "stdout",
          "text": [
            "name : Nithish\n",
            "age : 21\n",
            "gender : male\n",
            "cource : python\n",
            "department : aids\n",
            "Hobby : playing cricket\n"
          ]
        }
      ]
    },
    {
      "cell_type": "code",
      "source": [
        "# check if the key exist\n",
        "\n",
        "if \"name\" in dict1:\n",
        "    print(\"Yes, 'name' is one of the keys in the dict1 dictionary\")"
      ],
      "metadata": {
        "colab": {
          "base_uri": "https://localhost:8080/"
        },
        "id": "bL2pcLuTxawa",
        "outputId": "55dea1fe-3ad2-45aa-a7b4-e35c9e5ccfab"
      },
      "execution_count": null,
      "outputs": [
        {
          "output_type": "stream",
          "name": "stdout",
          "text": [
            "Yes, 'name' is one of the keys in the dict1 dictionary\n"
          ]
        }
      ]
    },
    {
      "cell_type": "code",
      "source": [
        "print(dict1)\n",
        "\n",
        "dict1[\"name\"] = \"Mukesh Ram\"\n",
        "print(dict1)"
      ],
      "metadata": {
        "colab": {
          "base_uri": "https://localhost:8080/"
        },
        "id": "Pr_F5Hh7x2Bj",
        "outputId": "41a92f62-e243-44e4-90c3-5c610e31667f"
      },
      "execution_count": null,
      "outputs": [
        {
          "output_type": "stream",
          "name": "stdout",
          "text": [
            "{'name': 'Nithish', 'age': 21, 'gender': 'male', 'cource': 'python', 'department': 'aids', 'Hobby': 'playing cricket'}\n",
            "{'name': 'Mukesh Ram', 'age': 21, 'gender': 'male', 'cource': 'python', 'department': 'aids', 'Hobby': 'playing cricket'}\n"
          ]
        }
      ]
    },
    {
      "cell_type": "code",
      "source": [
        "dict1.update({\"name\":\"Nithish\"})\n",
        "print(dict1)"
      ],
      "metadata": {
        "colab": {
          "base_uri": "https://localhost:8080/"
        },
        "id": "G94I06AuyMvS",
        "outputId": "d4573b05-0660-466d-ff1a-8c9aa85ed200"
      },
      "execution_count": null,
      "outputs": [
        {
          "output_type": "stream",
          "name": "stdout",
          "text": [
            "{'name': 'Nithish', 'age': 21, 'gender': 'male', 'cource': 'python', 'department': 'aids', 'Hobby': 'playing cricket', 'Father_name': 'Santhosh'}\n"
          ]
        }
      ]
    },
    {
      "cell_type": "code",
      "source": [
        "# add items in dictionary\n",
        "\n",
        "dict1[\"Mother_Name\"] = \"Shivani\"\n",
        "print(dict1)"
      ],
      "metadata": {
        "colab": {
          "base_uri": "https://localhost:8080/"
        },
        "id": "bIXyu741ye2_",
        "outputId": "448622bc-d094-4fab-cf3c-c6625438938e"
      },
      "execution_count": null,
      "outputs": [
        {
          "output_type": "stream",
          "name": "stdout",
          "text": [
            "{'name': 'Nithish', 'age': 21, 'gender': 'male', 'cource': 'python', 'department': 'aids', 'Hobby': 'playing cricket', 'Father_name': 'Santhosh', 'Mother_Name': 'Shivani'}\n"
          ]
        }
      ]
    },
    {
      "cell_type": "code",
      "source": [
        "# remove an item\n",
        "\n",
        "# pop\n",
        "dict1.pop(\"Mother_Name\")\n",
        "print(dict1)\n",
        "\n",
        "# pop item -> removes last inserted element\n",
        "dict1.popitem()\n",
        "print(dict1)\n",
        "\n",
        "# del\n",
        "del dict1[\"age\"]\n",
        "print(dict1)\n",
        "\n",
        "# clear\n",
        "dict1.clear()\n",
        "print(dict1)"
      ],
      "metadata": {
        "colab": {
          "base_uri": "https://localhost:8080/"
        },
        "id": "SvaTXUJhyvH8",
        "outputId": "04fbde22-1595-4e71-b985-2c41e2cb25ff"
      },
      "execution_count": null,
      "outputs": [
        {
          "output_type": "stream",
          "name": "stdout",
          "text": [
            "{'name': 'Nithish', 'age': 21, 'gender': 'male', 'cource': 'python', 'department': 'aids', 'Hobby': 'playing cricket', 'Father_name': 'Santhosh'}\n",
            "{'name': 'Nithish', 'age': 21, 'gender': 'male', 'cource': 'python', 'department': 'aids', 'Hobby': 'playing cricket'}\n",
            "{'name': 'Nithish', 'gender': 'male', 'cource': 'python', 'department': 'aids', 'Hobby': 'playing cricket'}\n",
            "{}\n"
          ]
        }
      ]
    },
    {
      "cell_type": "code",
      "source": [
        "# loop\n",
        "\n",
        "dict1 = {\n",
        "    \"name\" : \"Nithish\",\n",
        "    \"age\" : 21,\n",
        "    \"gender\" : \"male\",\n",
        "    \"cource\" : \"python\",\n",
        "    \"department\" : \"aids\",\n",
        "    \"Hobby\" : \"playing cricket\"\n",
        "}\n",
        "\n",
        "\n",
        "for key in dict1.keys():\n",
        "  print(key)\n",
        "\n",
        "print(\"\\n\")\n",
        "\n",
        "for value in dict1.values():\n",
        "  print(value)\n",
        "\n",
        "print(\"\\n\")\n",
        "\n",
        "for key,value in dict1.items():\n",
        "  print(key,\" : \",value)"
      ],
      "metadata": {
        "colab": {
          "base_uri": "https://localhost:8080/"
        },
        "id": "_iEnEnWZy_Vd",
        "outputId": "59dea604-9ace-4d7a-c092-e91526c0c789"
      },
      "execution_count": null,
      "outputs": [
        {
          "output_type": "stream",
          "name": "stdout",
          "text": [
            "name\n",
            "age\n",
            "gender\n",
            "cource\n",
            "department\n",
            "Hobby\n",
            "\n",
            "\n",
            "Nithish\n",
            "21\n",
            "male\n",
            "python\n",
            "aids\n",
            "playing cricket\n",
            "\n",
            "\n",
            "name  :  Nithish\n",
            "age  :  21\n",
            "gender  :  male\n",
            "cource  :  python\n",
            "department  :  aids\n",
            "Hobby  :  playing cricket\n"
          ]
        }
      ]
    },
    {
      "cell_type": "code",
      "source": [
        "# copy\n",
        "\n",
        "dict1 = {\n",
        "    \"name\" : \"Nithish\",\n",
        "    \"age\" : 21,\n",
        "    \"gender\" : \"male\",\n",
        "    \"cource\" : \"python\",\n",
        "    \"department\" : \"aids\",\n",
        "    \"Hobby\" : \"playing cricket\"\n",
        "}\n",
        "\n",
        "dict2 = dict1.copy()\n",
        "print(dict2)\n",
        "\n",
        "print(\"\\n\")\n",
        "\n",
        "dict3 = dict(dict1)\n",
        "print(dict3)"
      ],
      "metadata": {
        "colab": {
          "base_uri": "https://localhost:8080/"
        },
        "id": "smnYL1rqzs9W",
        "outputId": "dab15df9-de63-4927-a200-6d9f092456a8"
      },
      "execution_count": null,
      "outputs": [
        {
          "output_type": "stream",
          "name": "stdout",
          "text": [
            "{'name': 'Nithish', 'age': 21, 'gender': 'male', 'cource': 'python', 'department': 'aids', 'Hobby': 'playing cricket'}\n",
            "\n",
            "\n",
            "{'name': 'Nithish', 'age': 21, 'gender': 'male', 'cource': 'python', 'department': 'aids', 'Hobby': 'playing cricket'}\n"
          ]
        }
      ]
    },
    {
      "cell_type": "code",
      "source": [
        "# nested dictionary\n",
        "\n",
        "student = {\n",
        "    \"stud1\" :{\n",
        "        \"name\" : \"Kumar\",\n",
        "        \"age\" : 21,\n",
        "        \"gender\" : \"male\",\n",
        "    },\n",
        "    \"stud2\" :{\n",
        "        \"name\" : \"Nithish\",\n",
        "        \"age\" : 21,\n",
        "        \"gender\" : \"male\",\n",
        "    },\n",
        "    \"stud3\" :{\n",
        "        \"name\" : \"Mukesh\",\n",
        "        \"age\" : 21,\n",
        "        \"gender\" : \"male\",\n",
        "    }\n",
        "}\n",
        "\n",
        "print(student)\n",
        "\n",
        "print(\"\\n\")\n",
        "\n",
        "print(student[\"stud1\"][\"name\"])\n",
        "print(student[\"stud1\"][\"age\"])\n",
        "print(student[\"stud1\"][\"gender\"])\n",
        "\n",
        "print(\"\\n\")\n",
        "\n",
        "print(student[\"stud2\"][\"name\"])\n",
        "print(student[\"stud2\"][\"age\"])\n",
        "print(student[\"stud2\"][\"gender\"])\n",
        "\n",
        "print(\"\\n\")\n",
        "\n",
        "print(student[\"stud3\"][\"name\"])\n",
        "print(student[\"stud3\"][\"age\"])\n",
        "print(student[\"stud3\"][\"gender\"])"
      ],
      "metadata": {
        "colab": {
          "base_uri": "https://localhost:8080/"
        },
        "id": "0M5lzlpB0aqQ",
        "outputId": "d80e6927-171f-4647-eee5-f0945557fec4"
      },
      "execution_count": null,
      "outputs": [
        {
          "output_type": "stream",
          "name": "stdout",
          "text": [
            "{'stud1': {'name': 'Kumar', 'age': 21, 'gender': 'male'}, 'stud2': {'name': 'Nithish', 'age': 21, 'gender': 'male'}, 'stud3': {'name': 'Mukesh', 'age': 21, 'gender': 'male'}}\n",
            "\n",
            "\n",
            "Kumar\n",
            "21\n",
            "male\n",
            "\n",
            "\n",
            "Nithish\n",
            "21\n",
            "male\n",
            "\n",
            "\n",
            "Mukesh\n",
            "21\n",
            "male\n"
          ]
        }
      ]
    },
    {
      "cell_type": "code",
      "source": [
        "\"\"\"\n",
        "Dictionary Methods\n",
        "\n",
        "Method \t      Description\n",
        "\n",
        "clear()\t      Removes all the elements from the dictionary\n",
        "copy()\t      Returns a copy of the dictionary\n",
        "fromkeys()\t  Returns a dictionary with the specified keys and value\n",
        "get() \t      Returns the value of the specified key\n",
        "items()\t      Returns a list containing a tuple for each key value pair\n",
        "keys()\t      Returns a list containing the dictionary's keys\n",
        "pop()\t        Removes the element with the specified key\n",
        "popitem()\t    Removes the last inserted key-value pair\n",
        "setdefault()\tReturns the value of the specified key. If the key does not exist: insert the key, with the specified value\n",
        "update()\t    Updates the dictionary with the specified key-value pairs\n",
        "values()\t    Returns a list of all the values in the dictionary\n",
        "\n",
        "\"\"\"\n",
        "\n",
        "print(\"\\n\")\n",
        "\n"
      ],
      "metadata": {
        "colab": {
          "base_uri": "https://localhost:8080/"
        },
        "id": "azIYZvTZ1GH4",
        "outputId": "60193583-99f6-493e-f5f4-6f9a88cece8f"
      },
      "execution_count": null,
      "outputs": [
        {
          "output_type": "stream",
          "name": "stdout",
          "text": [
            "\n",
            "\n"
          ]
        }
      ]
    },
    {
      "cell_type": "code",
      "source": [],
      "metadata": {
        "id": "iOQ-qH4T1t_b"
      },
      "execution_count": null,
      "outputs": []
    }
  ]
}