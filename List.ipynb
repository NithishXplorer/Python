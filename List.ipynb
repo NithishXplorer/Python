{
  "nbformat": 4,
  "nbformat_minor": 0,
  "metadata": {
    "colab": {
      "provenance": [],
      "authorship_tag": "ABX9TyMl1S4D0HFJHmPaB7ZqamL+",
      "include_colab_link": true
    },
    "kernelspec": {
      "name": "python3",
      "display_name": "Python 3"
    },
    "language_info": {
      "name": "python"
    }
  },
  "cells": [
    {
      "cell_type": "markdown",
      "metadata": {
        "id": "view-in-github",
        "colab_type": "text"
      },
      "source": [
        "<a href=\"https://colab.research.google.com/github/NithishXplorer/Python/blob/main/List.ipynb\" target=\"_parent\"><img src=\"https://colab.research.google.com/assets/colab-badge.svg\" alt=\"Open In Colab\"/></a>"
      ]
    },
    {
      "cell_type": "code",
      "execution_count": 2,
      "metadata": {
        "id": "-A58RAJUhRex"
      },
      "outputs": [],
      "source": [
        "movie = [\"The Conjuring\", \"Hereditary\", \"Annabelle\", \"Dabbe\", \"Siccin\", \"Insidious\", \"It\"]\n",
        "\n",
        "songs = [\"Kanima\", \"Hey Minnale\",\"Pookkal Pookkum\",\"Usure Pogudhey\", \"Kaatrodu Pattam Pola\"]\n",
        "\n"
      ]
    },
    {
      "cell_type": "code",
      "source": [],
      "metadata": {
        "colab": {
          "base_uri": "https://localhost:8080/"
        },
        "id": "UVo-NR_Ihn6t",
        "outputId": "b189ebee-03b4-4b4f-bf29-4973ed139407"
      },
      "execution_count": 5,
      "outputs": [
        {
          "output_type": "stream",
          "name": "stdout",
          "text": [
            "['The Conjuring', 'Hereditary', 'Annabelle', 'Dabbe', 'Siccin', 'Insidious', 'It']\n"
          ]
        }
      ]
    },
    {
      "cell_type": "code",
      "source": [
        "# Create a list\n",
        "\n",
        "movie = [\"The Conjuring\", \"Hereditary\", \"Annabelle\", \"Dabbe\", \"Siccin\", \"Insidious\", \"It\"]\n",
        "\n",
        "songs = [\"Kanima\", \"Hey Minnale\",\"Pookkal Pookkum\",\"Usure Pogudhey\", \"Kaatrodu Pattam Pola\"]"
      ],
      "metadata": {
        "id": "i0zurNTph6BK"
      },
      "execution_count": 6,
      "outputs": []
    },
    {
      "cell_type": "code",
      "source": [
        "print(movie)\n",
        "print(\"\\n\")\n",
        "print(songs)"
      ],
      "metadata": {
        "colab": {
          "base_uri": "https://localhost:8080/"
        },
        "id": "gAdhEQPgi9UM",
        "outputId": "83f5fff8-8528-4e9a-d07e-61c758ef9f96"
      },
      "execution_count": 7,
      "outputs": [
        {
          "output_type": "stream",
          "name": "stdout",
          "text": [
            "['The Conjuring', 'Hereditary', 'Annabelle', 'Dabbe', 'Siccin', 'Insidious', 'It']\n",
            "\n",
            "\n",
            "['Kanima', 'Hey Minnale', 'Pookkal Pookkum', 'Usure Pogudhey', 'Kaatrodu Pattam Pola']\n"
          ]
        }
      ]
    },
    {
      "cell_type": "code",
      "source": [
        "# Length of the list\n",
        "\n",
        "length = len(movie)\n",
        "print(\"Length of the list Movie is : \",length)"
      ],
      "metadata": {
        "colab": {
          "base_uri": "https://localhost:8080/"
        },
        "id": "LHe8LCrTjCy1",
        "outputId": "d3e33201-cf38-4037-c916-a8b29afe7157"
      },
      "execution_count": 8,
      "outputs": [
        {
          "output_type": "stream",
          "name": "stdout",
          "text": [
            "Length of the list Movie is :  7\n"
          ]
        }
      ]
    },
    {
      "cell_type": "code",
      "source": [
        "# List can allow multiple data types\n",
        "\n",
        "list1 = [\"Nithish\",21,7.5,True]\n",
        "print(list1)"
      ],
      "metadata": {
        "colab": {
          "base_uri": "https://localhost:8080/"
        },
        "id": "D0hRAycEjV4s",
        "outputId": "5c9b45d8-1eeb-47ec-a753-13b3fa538134"
      },
      "execution_count": 9,
      "outputs": [
        {
          "output_type": "stream",
          "name": "stdout",
          "text": [
            "['Nithish', 21, 7.5, True]\n"
          ]
        }
      ]
    },
    {
      "cell_type": "code",
      "source": [
        "# Type of the list\n",
        "\n",
        "print(type(list1))"
      ],
      "metadata": {
        "colab": {
          "base_uri": "https://localhost:8080/"
        },
        "id": "hi-4Vb0hjlqh",
        "outputId": "de8e4de2-d549-4d98-9bda-948572aa8f3e"
      },
      "execution_count": 10,
      "outputs": [
        {
          "output_type": "stream",
          "name": "stdout",
          "text": [
            "<class 'list'>\n"
          ]
        }
      ]
    },
    {
      "cell_type": "code",
      "source": [
        "# list() constructor -> To make a list\n",
        "\n",
        "list2 = list((\"apple\",\"orange\",\"mango\",\"water melon\",\"dragon fruit\",\"grapes\"))\n",
        "print(list2)"
      ],
      "metadata": {
        "colab": {
          "base_uri": "https://localhost:8080/"
        },
        "id": "RjBxXu-mjtk2",
        "outputId": "0fdc6bb0-f211-4e76-ffc0-6f88a21ac38b"
      },
      "execution_count": 14,
      "outputs": [
        {
          "output_type": "stream",
          "name": "stdout",
          "text": [
            "['apple', 'orange', 'mango', 'water melon', 'dragon fruit', 'grapes']\n"
          ]
        }
      ]
    },
    {
      "cell_type": "code",
      "source": [
        "# Accessing elements in list\n",
        "\n",
        "print(\"Orginal List : \",list2)\n",
        "print(\"\\n\")\n",
        "print(\"Last element in the list : \",list2[-1])\n",
        "print(\"\\nAccessing from starting element : \",list2[0:])\n",
        "print(\"\\nAccessing Middle element : \",list2[2:4])\n",
        "print(\"\\nNegative Indexes : \",list2[-4:-1])"
      ],
      "metadata": {
        "colab": {
          "base_uri": "https://localhost:8080/"
        },
        "id": "15M9UUMNkDri",
        "outputId": "53bddf7a-3c7d-4f75-83d0-2e48cd35551a"
      },
      "execution_count": 21,
      "outputs": [
        {
          "output_type": "stream",
          "name": "stdout",
          "text": [
            "Orginal List :  ['apple', 'orange', 'mango', 'water melon', 'dragon fruit', 'grapes']\n",
            "\n",
            "\n",
            "Last element in the list :  grapes\n",
            "\n",
            "Accessing from starting element :  ['apple', 'orange', 'mango', 'water melon', 'dragon fruit', 'grapes']\n",
            "\n",
            "Accessing Middle element :  ['mango', 'water melon']\n",
            "\n",
            "Negative Indexes :  ['mango', 'water melon', 'dragon fruit']\n"
          ]
        }
      ]
    },
    {
      "cell_type": "code",
      "source": [
        "# Iteration in list\n",
        "\n",
        "for item in list2:\n",
        "  print(item)"
      ],
      "metadata": {
        "colab": {
          "base_uri": "https://localhost:8080/"
        },
        "id": "R7krszBglkSu",
        "outputId": "3f941ce6-a8df-40e1-8c57-cd2bbe0961bb"
      },
      "execution_count": 22,
      "outputs": [
        {
          "output_type": "stream",
          "name": "stdout",
          "text": [
            "apple\n",
            "orange\n",
            "mango\n",
            "water melon\n",
            "dragon fruit\n",
            "grapes\n"
          ]
        }
      ]
    },
    {
      "cell_type": "code",
      "source": [
        "# check if the item present in the list or not\n",
        "\n",
        "if \"water melon\" in list2 :\n",
        "  print(\"Water Melon is present in the list\")"
      ],
      "metadata": {
        "colab": {
          "base_uri": "https://localhost:8080/"
        },
        "id": "oK6TOIFFm2ps",
        "outputId": "87d37eb9-5b7f-44b8-8062-be0961333577"
      },
      "execution_count": 23,
      "outputs": [
        {
          "output_type": "stream",
          "name": "stdout",
          "text": [
            "Water Melon is present in the list\n"
          ]
        }
      ]
    },
    {
      "cell_type": "code",
      "source": [
        "# Changing The element in list\n",
        "\n",
        "print(\"Orginal list : \",list2)\n",
        "\n",
        "list2[2] = \"muskmelon\"\n",
        "\n",
        "print(\"\\nAfter chnaging the element in list : \",list2)\n"
      ],
      "metadata": {
        "colab": {
          "base_uri": "https://localhost:8080/"
        },
        "id": "NT0r1iuInRsL",
        "outputId": "be2de052-a95b-4e8f-9b73-b5e5707de98a"
      },
      "execution_count": 27,
      "outputs": [
        {
          "output_type": "stream",
          "name": "stdout",
          "text": [
            "Orginal list :  ['apple', 'orange', 'muskmelon', 'water melon', 'dragon fruit', 'grapes']\n",
            "\n",
            "After chnaging the element in list :  ['apple', 'orange', 'muskmelon', 'water melon', 'dragon fruit', 'grapes']\n"
          ]
        }
      ]
    },
    {
      "cell_type": "code",
      "source": [
        "# Changing elements with range\n",
        "\n",
        "print(\"Orginal list : \",list2)\n",
        "\n",
        "sub_list = [\"banana\",\"cherry\"]\n",
        "list2[1:3] = sub_list\n",
        "\n",
        "print(\"\\nAfter changing : \",list2)"
      ],
      "metadata": {
        "colab": {
          "base_uri": "https://localhost:8080/"
        },
        "id": "i0ARziMlnkn4",
        "outputId": "ee3a18b4-6258-404f-b6f4-201b7189e6ca"
      },
      "execution_count": 32,
      "outputs": [
        {
          "output_type": "stream",
          "name": "stdout",
          "text": [
            "Orginal list :  ['apple', 'banana', 'cherry', 'water melon', 'dragon fruit', 'grapes']\n",
            "\n",
            "After changing :  ['apple', 'banana', 'cherry', 'water melon', 'dragon fruit', 'grapes']\n"
          ]
        }
      ]
    },
    {
      "cell_type": "code",
      "source": [
        "orginal_list = [\"apple\",\"banana\",\"cherry\",\"water melon\",\"dragon fruit\",\"grapes\"]\n",
        "print(orginal_list)\n",
        "\n",
        "# append item in list -> append() used to append element at last\n",
        "orginal_list.append(\"Strawberry\")\n",
        "print(\"\\nAfter appending : \",orginal_list)\n",
        "\n",
        "\n",
        "# insert -> insert element at any position\n",
        "\n",
        "orginal_list.insert(2,\"kiwi\") # here 2 is the position\n",
        "print(\"\\nAfter inserting element : \",orginal_list)\n",
        "\n",
        "# extend list\n",
        "sub_list = [\"Blue Berry\", \"Pineapple\", \"Papaya\"]\n",
        "orginal_list.extend(sub_list)\n",
        "print(\"\\nAfter extending : \",orginal_list)"
      ],
      "metadata": {
        "colab": {
          "base_uri": "https://localhost:8080/"
        },
        "id": "T4lr-vMAoj-j",
        "outputId": "0bfbd91c-bc03-4566-fc80-1d1f4edb9cd4"
      },
      "execution_count": 42,
      "outputs": [
        {
          "output_type": "stream",
          "name": "stdout",
          "text": [
            "['apple', 'banana', 'cherry', 'water melon', 'dragon fruit', 'grapes']\n",
            "\n",
            "After appending :  ['apple', 'banana', 'cherry', 'water melon', 'dragon fruit', 'grapes', 'Strawberry']\n",
            "\n",
            "After inserting element :  ['apple', 'banana', 'kiwi', 'cherry', 'water melon', 'dragon fruit', 'grapes', 'Strawberry']\n",
            "\n",
            "After extending :  ['apple', 'banana', 'kiwi', 'cherry', 'water melon', 'dragon fruit', 'grapes', 'Strawberry', 'Blue Berry', 'Pineapple', 'Papaya']\n"
          ]
        }
      ]
    },
    {
      "cell_type": "code",
      "source": [
        "# remove element in the list\n",
        "\n",
        "orginal_list = [\"apple\",\"banana\",\"cherry\",\"water melon\",\"dragon fruit\",\"grapes\"]\n",
        "print(\"Befor remove a element : \",orginal_list)\n",
        "\n",
        "orginal_list.remove(\"cherry\")\n",
        "print(\"\\nAfter remove a element : \",orginal_list)\n",
        "\n",
        "# pop -> last inserted element will pop\n",
        "orginal_list.pop(2)\n",
        "print(\"\\nAfter pop a element : \",orginal_list)\n",
        "\n",
        "# pop with specified index\n",
        "orginal_list.pop(1)\n",
        "print(\"\\nAfter pop a element with specified index : \",orginal_list)\n",
        "\n",
        "# delete specified index\n",
        "del orginal_list[0]\n",
        "print(\"\\nAfter delete specified index : \",orginal_list)\n",
        "\n",
        "# clear\n",
        "orginal_list.clear()\n",
        "print(\"\\nAfter clear element : \",orginal_list)\n",
        "\n",
        "# delete the list\n",
        "del orginal_list"
      ],
      "metadata": {
        "colab": {
          "base_uri": "https://localhost:8080/"
        },
        "id": "HTkjer_SpPqd",
        "outputId": "211cad32-61f7-4921-f2c5-1788888455fd"
      },
      "execution_count": 43,
      "outputs": [
        {
          "output_type": "stream",
          "name": "stdout",
          "text": [
            "Befor remove a element :  ['apple', 'banana', 'cherry', 'water melon', 'dragon fruit', 'grapes']\n",
            "\n",
            "After remove a element :  ['apple', 'banana', 'water melon', 'dragon fruit', 'grapes']\n",
            "\n",
            "After pop a element :  ['apple', 'banana', 'dragon fruit', 'grapes']\n",
            "\n",
            "After pop a element with specified index :  ['apple', 'dragon fruit', 'grapes']\n",
            "\n",
            "After delete specified index :  ['dragon fruit', 'grapes']\n",
            "\n",
            "After clear element :  []\n"
          ]
        }
      ]
    },
    {
      "cell_type": "code",
      "source": [
        "print(orginal_list) # The list is completly deleted"
      ],
      "metadata": {
        "colab": {
          "base_uri": "https://localhost:8080/",
          "height": 141
        },
        "id": "C59svpH_s4di",
        "outputId": "c0aad038-4a3d-416f-8c75-ed6bdaf41604"
      },
      "execution_count": 44,
      "outputs": [
        {
          "output_type": "error",
          "ename": "NameError",
          "evalue": "name 'orginal_list' is not defined",
          "traceback": [
            "\u001b[0;31m---------------------------------------------------------------------------\u001b[0m",
            "\u001b[0;31mNameError\u001b[0m                                 Traceback (most recent call last)",
            "\u001b[0;32m<ipython-input-44-2455468138>\u001b[0m in \u001b[0;36m<cell line: 0>\u001b[0;34m()\u001b[0m\n\u001b[0;32m----> 1\u001b[0;31m \u001b[0mprint\u001b[0m\u001b[0;34m(\u001b[0m\u001b[0morginal_list\u001b[0m\u001b[0;34m)\u001b[0m\u001b[0;34m\u001b[0m\u001b[0;34m\u001b[0m\u001b[0m\n\u001b[0m",
            "\u001b[0;31mNameError\u001b[0m: name 'orginal_list' is not defined"
          ]
        }
      ]
    },
    {
      "cell_type": "code",
      "source": [],
      "metadata": {
        "id": "d6RfpKEktJ6R"
      },
      "execution_count": null,
      "outputs": []
    }
  ]
}