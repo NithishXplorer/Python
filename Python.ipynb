{
  "nbformat": 4,
  "nbformat_minor": 0,
  "metadata": {
    "colab": {
      "provenance": [],
      "authorship_tag": "ABX9TyMcUEVxgqgsXtbYFS2B86jH",
      "include_colab_link": true
    },
    "kernelspec": {
      "name": "python3",
      "display_name": "Python 3"
    },
    "language_info": {
      "name": "python"
    }
  },
  "cells": [
    {
      "cell_type": "markdown",
      "metadata": {
        "id": "view-in-github",
        "colab_type": "text"
      },
      "source": [
        "<a href=\"https://colab.research.google.com/github/NithishXplorer/Python/blob/main/Python.ipynb\" target=\"_parent\"><img src=\"https://colab.research.google.com/assets/colab-badge.svg\" alt=\"Open In Colab\"/></a>"
      ]
    },
    {
      "cell_type": "code",
      "execution_count": 1,
      "metadata": {
        "colab": {
          "base_uri": "https://localhost:8080/"
        },
        "id": "WIeUQ1K3BcC5",
        "outputId": "f259519d-2074-4dc4-fd08-2c1308c4d24d"
      },
      "outputs": [
        {
          "output_type": "stream",
          "name": "stdout",
          "text": [
            "Value :  10\n",
            "\n",
            "Value of a :  20\n",
            "\n",
            "Addition :  15\n",
            "\n",
            "Concatenate :  105\n"
          ]
        }
      ],
      "source": [
        "# Variables :\n",
        "\n",
        "10\n",
        "print(\"Value : \",10)\n",
        "\n",
        "a = 20\n",
        "print(\"\\nValue of a : \",a)\n",
        "\n",
        "a = 10\n",
        "b = 5\n",
        "print(\"\\nAddition : \",a+b)\n",
        "\n",
        "a = '10'\n",
        "b = '5'\n",
        "print(\"\\nConcatenate : \",a+b)"
      ]
    },
    {
      "cell_type": "code",
      "source": [
        "# Data Type :\n",
        "\n",
        "age = 7175\n",
        "print(age, type(age))\n",
        "\n",
        "name = \"Dabbe\"\n",
        "print(name, type(name))\n",
        "\n",
        "price = 388.0\n",
        "print(price, type(price))\n",
        "\n",
        "is_here = True\n",
        "print(is_here, type(is_here))\n",
        "\n",
        "#NULL\n",
        "leave = None\n",
        "print(leave, type(leave))\n"
      ],
      "metadata": {
        "colab": {
          "base_uri": "https://localhost:8080/"
        },
        "id": "L-Uui59JBhxC",
        "outputId": "69d23889-3e72-4246-8d9b-7edf0b88b7e5"
      },
      "execution_count": 2,
      "outputs": [
        {
          "output_type": "stream",
          "name": "stdout",
          "text": [
            "7175 <class 'int'>\n",
            "Dabbe <class 'str'>\n",
            "388.0 <class 'float'>\n",
            "True <class 'bool'>\n",
            "None <class 'NoneType'>\n"
          ]
        }
      ]
    },
    {
      "cell_type": "code",
      "source": [
        "# Variable Scope :\n",
        "\n",
        "# scope : accessing the variable  => RULE : L -> E -> G -> B"
      ],
      "metadata": {
        "id": "nkoNlamFEzzM"
      },
      "execution_count": 3,
      "outputs": []
    },
    {
      "cell_type": "code",
      "source": [
        "# L : local variable - ( used within the function )\n",
        "\n",
        "def func():\n",
        "  var = \"Dabbe\"\n",
        "  print(\"The best Horror flim is : \",var)\n",
        "\n",
        "func()\n",
        "#print(\"The best Horror flim is : \",var) => NameError"
      ],
      "metadata": {
        "colab": {
          "base_uri": "https://localhost:8080/"
        },
        "id": "Ox07r_g9GZrr",
        "outputId": "9b05294d-10bc-48cd-f19b-a512365d06c0"
      },
      "execution_count": 4,
      "outputs": [
        {
          "output_type": "stream",
          "name": "stdout",
          "text": [
            "The best Horror flim is :  Dabbe\n"
          ]
        }
      ]
    },
    {
      "cell_type": "code",
      "source": [
        "# E : Enclosing - (Child function can access the variable in parent function)\n",
        "\n",
        "def func1():\n",
        "  var = 10\n",
        "  def func2():\n",
        "    print(\"Value is : \",var) # Access the variable which belongs to Parent Class\n",
        "  func2()\n",
        "func1()"
      ],
      "metadata": {
        "colab": {
          "base_uri": "https://localhost:8080/"
        },
        "id": "9OA2r-mKHy22",
        "outputId": "5555cd02-c9ad-4556-f4be-365285817be8"
      },
      "execution_count": 5,
      "outputs": [
        {
          "output_type": "stream",
          "name": "stdout",
          "text": [
            "Value is :  10\n"
          ]
        }
      ]
    },
    {
      "cell_type": "code",
      "source": [
        "# G : Global Variable - (We can acces the global variable anywhere in the program if it declared first )\n",
        "\n",
        "code = \"388@0\"\n",
        "def func():\n",
        "  print(\"The code word is : \",code)\n",
        "func()"
      ],
      "metadata": {
        "colab": {
          "base_uri": "https://localhost:8080/"
        },
        "id": "HCkMe_t4IHi_",
        "outputId": "211d6288-6b09-40a3-922c-7401f64f0772"
      },
      "execution_count": 6,
      "outputs": [
        {
          "output_type": "stream",
          "name": "stdout",
          "text": [
            "The code word is :  388@0\n"
          ]
        }
      ]
    },
    {
      "cell_type": "code",
      "source": [
        "# B : Built-In Variable - (We can use Built in variables directly)\n",
        "\n",
        "# some of the popular Built-In variables\n",
        "\n",
        "print(__name__) # name of the current module\n",
        "\n",
        "def func():\n",
        "  \"\"\" This is DocString \"\"\"\n",
        "print(func.__doc__)\n",
        "\n",
        "\n",
        "#Not Supported in .ipynb environment\n",
        "try:\n",
        "    print(__file__)\n",
        "except NameError:\n",
        "    print(\"__file__ is not defined in this environment\")"
      ],
      "metadata": {
        "colab": {
          "base_uri": "https://localhost:8080/"
        },
        "id": "N17ZuYp3JSpI",
        "outputId": "080685c2-e50c-4942-9014-ba33316f6a2a"
      },
      "execution_count": 7,
      "outputs": [
        {
          "output_type": "stream",
          "name": "stdout",
          "text": [
            "__main__\n",
            " This is DocString \n",
            "__file__ is not defined in this environment\n"
          ]
        }
      ]
    },
    {
      "cell_type": "code",
      "source": [
        "import builtins\n",
        "print(dir(builtins))"
      ],
      "metadata": {
        "colab": {
          "base_uri": "https://localhost:8080/"
        },
        "id": "mHjsxsGwKXtA",
        "outputId": "d6ccacc0-7192-46fd-d931-8646b98ac105"
      },
      "execution_count": 8,
      "outputs": [
        {
          "output_type": "stream",
          "name": "stdout",
          "text": [
            "['ArithmeticError', 'AssertionError', 'AttributeError', 'BaseException', 'BaseExceptionGroup', 'BlockingIOError', 'BrokenPipeError', 'BufferError', 'BytesWarning', 'ChildProcessError', 'ConnectionAbortedError', 'ConnectionError', 'ConnectionRefusedError', 'ConnectionResetError', 'DeprecationWarning', 'EOFError', 'Ellipsis', 'EncodingWarning', 'EnvironmentError', 'Exception', 'ExceptionGroup', 'False', 'FileExistsError', 'FileNotFoundError', 'FloatingPointError', 'FutureWarning', 'GeneratorExit', 'IOError', 'ImportError', 'ImportWarning', 'IndentationError', 'IndexError', 'InterruptedError', 'IsADirectoryError', 'KeyError', 'KeyboardInterrupt', 'LookupError', 'MemoryError', 'ModuleNotFoundError', 'NameError', 'None', 'NotADirectoryError', 'NotImplemented', 'NotImplementedError', 'OSError', 'OverflowError', 'PendingDeprecationWarning', 'PermissionError', 'ProcessLookupError', 'RecursionError', 'ReferenceError', 'ResourceWarning', 'RuntimeError', 'RuntimeWarning', 'StopAsyncIteration', 'StopIteration', 'SyntaxError', 'SyntaxWarning', 'SystemError', 'SystemExit', 'TabError', 'TimeoutError', 'True', 'TypeError', 'UnboundLocalError', 'UnicodeDecodeError', 'UnicodeEncodeError', 'UnicodeError', 'UnicodeTranslateError', 'UnicodeWarning', 'UserWarning', 'ValueError', 'Warning', 'ZeroDivisionError', '__IPYTHON__', '__build_class__', '__debug__', '__doc__', '__import__', '__loader__', '__name__', '__package__', '__pybind11_internals_v4_gcc_libstdcpp_cxxabi1014__', '__spec__', 'abs', 'aiter', 'all', 'anext', 'any', 'ascii', 'bin', 'bool', 'breakpoint', 'bytearray', 'bytes', 'callable', 'chr', 'classmethod', 'compile', 'complex', 'copyright', 'credits', 'delattr', 'dict', 'dir', 'display', 'divmod', 'enumerate', 'eval', 'exec', 'execfile', 'filter', 'float', 'format', 'frozenset', 'get_ipython', 'getattr', 'globals', 'hasattr', 'hash', 'help', 'hex', 'id', 'input', 'int', 'isinstance', 'issubclass', 'iter', 'len', 'license', 'list', 'locals', 'map', 'max', 'memoryview', 'min', 'next', 'object', 'oct', 'open', 'ord', 'pow', 'print', 'property', 'range', 'repr', 'reversed', 'round', 'runfile', 'set', 'setattr', 'slice', 'sorted', 'staticmethod', 'str', 'sum', 'super', 'tuple', 'type', 'vars', 'zip']\n"
          ]
        }
      ]
    },
    {
      "cell_type": "code",
      "source": [
        "global_variable = \"Dabbe\"\n",
        "\n",
        "def func1():\n",
        "  enclosed = \"Jin\"\n",
        "  def func2():\n",
        "    local_variable = \"movie\"\n",
        "    print(f\"In {global_variable} movie {enclosed} is most powerful spirit\")\n",
        "  func2()\n",
        "func1()"
      ],
      "metadata": {
        "colab": {
          "base_uri": "https://localhost:8080/"
        },
        "id": "wjywE29tNO2C",
        "outputId": "da603d84-5d94-4f97-cd48-6e9733171ba8"
      },
      "execution_count": 9,
      "outputs": [
        {
          "output_type": "stream",
          "name": "stdout",
          "text": [
            "In Dabbe movie Jin is most powerful spirit\n"
          ]
        }
      ]
    },
    {
      "cell_type": "code",
      "source": [
        "#Type Casting and Checking - ( Changing one data type to another data Type)\n",
        "\n",
        "\"\"\"\n",
        "We cant type cast everything :\n",
        "\n",
        "int(abc) => Raises ValueError\n",
        "\n",
        "\"\"\"\n",
        "#Implicit Type-Casting\n",
        "a=10\n",
        "b=5.5\n",
        "c=a+b\n",
        "print(f\"{c} : \",type(c))\n",
        "\n",
        "#Explicit Type-Casting\n",
        "var1 = \"10\"\n",
        "var2 = \"20.5\"\n",
        "var3 = \"True\"\n",
        "\n",
        "print(f\"\\n\\n{var1} : \",type(var1))\n",
        "print(f\"{var2} : \",type(var2))\n",
        "print(f\"{var3} : \",type(var3))\n",
        "\n",
        "var1 = int(var1)\n",
        "var2 = float(var2)\n",
        "var3 = bool(var3)\n",
        "\n",
        "print(\"\\n\")\n",
        "print(f\"{var1} : \",type(var1))\n",
        "print(f\"{var2} : \",type(var2))\n",
        "print(f\"{var3} : \",type(var3))"
      ],
      "metadata": {
        "id": "ryXBKhABPdhh",
        "colab": {
          "base_uri": "https://localhost:8080/"
        },
        "outputId": "46ec9516-2731-437c-be9c-e7407fed47ec"
      },
      "execution_count": 10,
      "outputs": [
        {
          "output_type": "stream",
          "name": "stdout",
          "text": [
            "15.5 :  <class 'float'>\n",
            "\n",
            "\n",
            "10 :  <class 'str'>\n",
            "20.5 :  <class 'str'>\n",
            "True :  <class 'str'>\n",
            "\n",
            "\n",
            "10 :  <class 'int'>\n",
            "20.5 :  <class 'float'>\n",
            "True :  <class 'bool'>\n"
          ]
        }
      ]
    },
    {
      "cell_type": "code",
      "source": [
        "# Operators in Python\n",
        "\n",
        "\"\"\"\n",
        "\n",
        "1) Arithmetic Operator :\n",
        "\n",
        "+  -> Addition\n",
        "-  -> Subtraction\n",
        "*  -> Multiplication\n",
        "/  -> Division\n",
        "%  -> Modulus (remainder)\n",
        "** -> Exopnential\n",
        "// -> Floor Division (3.33 = 3)\n",
        "\n",
        "2) Assignment Operator :\n",
        "\n",
        "=, +=, -=, *=, /=, %=, **=, //=, &=, |=, ^=, >>=, <<=, := (:= Walrus operator)\n",
        "\n",
        "3) Comparision Operator\n",
        "\n",
        "==, !=, >, <, >=, <=\n",
        "\n",
        "4) Logical Operator\n",
        "\n",
        "and, or, not\n",
        "\n",
        "5) Identity Operator\n",
        "\n",
        "is, is not\n",
        "\n",
        "6) Membership Operator\n",
        "\n",
        "in, not in\n",
        "\n",
        "7) Bitwise operator\n",
        "\n",
        "&, |, ^, ~, <<, >>\n",
        "\n",
        "PRECEDENCE : (highest to lowest)\n",
        "() \t                                            Parentheses\n",
        "** \t                                            Exponentiation\n",
        "+x  -x  ~x \t                                    Unary plus, unary minus, and bitwise NOT\n",
        "*  /  //  % \t                                  Multiplication, division, floor division, and modulus\n",
        "+  - \t                                          Addition and subtraction\n",
        "<<  >>   \t                                      Bitwise left and right shifts\n",
        "& \t                                            Bitwise AND\n",
        "^ \t                                            Bitwise XOR\n",
        "| \t                                            Bitwise OR\n",
        "==  !=  >  >=  <  <=  is  is not  in  not in  \tComparisons, identity, and membership operators\n",
        "not \t                                          Logical NOT\n",
        "and \t                                          AND\n",
        "or \t                                            OR\n",
        "\n",
        "\"\"\"\n",
        "print(\"\\n\")"
      ],
      "metadata": {
        "id": "9SEld6Gm4YFO",
        "colab": {
          "base_uri": "https://localhost:8080/"
        },
        "outputId": "29297bcd-a8aa-4c61-dbf8-f0b2b5b66fab"
      },
      "execution_count": 11,
      "outputs": [
        {
          "output_type": "stream",
          "name": "stdout",
          "text": [
            "\n",
            "\n"
          ]
        }
      ]
    },
    {
      "cell_type": "code",
      "source": [
        "a = 10\n",
        "b = 4\n",
        "\n",
        "print(\"1) ARITHMETIC OPERATOR :\\n\")\n",
        "print(f\"Addition : {a+b}\\nSubtraction : {a-b}\\nMultplication : {a*b}\\nDivision : {a/b}\\nModulus : {a%b}\\nExponential : {a**b}\\nFloor Division : {a//b}\")\n"
      ],
      "metadata": {
        "colab": {
          "base_uri": "https://localhost:8080/"
        },
        "id": "b-eGx53B1q3K",
        "outputId": "51130235-0818-4625-cc4b-f35a3489a8a8"
      },
      "execution_count": 12,
      "outputs": [
        {
          "output_type": "stream",
          "name": "stdout",
          "text": [
            "1) ARITHMETIC OPERATOR :\n",
            "\n",
            "Addition : 14\n",
            "Subtraction : 6\n",
            "Multplication : 40\n",
            "Division : 2.5\n",
            "Modulus : 2\n",
            "Exponential : 10000\n",
            "Floor Division : 2\n"
          ]
        }
      ]
    },
    {
      "cell_type": "code",
      "source": [
        "print(\"2) ASSIGNMENT OPERATOR :\\n\")\n",
        "x = 5\n",
        "print(x)\n",
        "x += 5 # x = x + 5 => 10\n",
        "print(x)\n",
        "x -= 4 # 6\n",
        "print(x)\n",
        "x *= 5 #30\n",
        "print(x)\n",
        "x /= 5 #6\n",
        "print(x)\n",
        "x %= 4 #2\n",
        "print(x)\n",
        "x **= 20\n",
        "print(x)\n",
        "x //= 1 #2\n",
        "print(x)\n",
        "\n",
        "\n",
        "x=10\n",
        "x &= 3\n",
        "print(x)\n",
        "\"\"\"\n",
        "\n",
        "  1010    (10 in binary)\n",
        "& 0011    (3  in binary)\n",
        "---------\n",
        "  0010    (2  in binary)\n",
        "\n",
        "\"\"\"\n",
        "\n",
        "x |= 3\n",
        "print(x)\n",
        "\"\"\"\n",
        "   0010    (2 in binary)\n",
        "|  0011    (3 in binary)\n",
        "---0------\n",
        "   0011    (3 in binary)\n",
        "\"\"\"\n",
        "\n",
        "\n",
        "x ^= 2\n",
        "print(x)\n",
        "\"\"\"\n",
        "   0011    (3 in binary)\n",
        "^  0010    (2 in binary)\n",
        "---------\n",
        "   0001    (1 in binary)\n",
        "\"\"\"\n",
        "\n",
        "x = 16 #10000 => 16\n",
        "x >>= 2 #00100 => 4\n",
        "print(x)\n",
        "x <<= 3 #100000 => 32\n",
        "print(x)\n",
        "print(a:=5>3) # Variable := Expression"
      ],
      "metadata": {
        "colab": {
          "base_uri": "https://localhost:8080/"
        },
        "id": "yIJdroJD9SHx",
        "outputId": "ffdccf93-3902-4f10-9f5c-3878dec5bdff"
      },
      "execution_count": 13,
      "outputs": [
        {
          "output_type": "stream",
          "name": "stdout",
          "text": [
            "2) ASSIGNMENT OPERATOR :\n",
            "\n",
            "5\n",
            "10\n",
            "6\n",
            "30\n",
            "6.0\n",
            "2.0\n",
            "1048576.0\n",
            "1048576.0\n",
            "2\n",
            "3\n",
            "1\n",
            "4\n",
            "32\n",
            "True\n"
          ]
        }
      ]
    },
    {
      "cell_type": "code",
      "source": [
        "print(\"3) Comparision Operator : \\n\")\n",
        "a = 10\n",
        "b = 5\n",
        "print(a == b)\n",
        "print(a != b)\n",
        "print(a > b)\n",
        "print(a < b)\n",
        "print(a <= b)\n",
        "print(a >= b)"
      ],
      "metadata": {
        "colab": {
          "base_uri": "https://localhost:8080/"
        },
        "id": "B7TB08299S8v",
        "outputId": "3ce77da0-388e-4c93-959b-42f295b0d601"
      },
      "execution_count": 14,
      "outputs": [
        {
          "output_type": "stream",
          "name": "stdout",
          "text": [
            "3) Comparision Operator : \n",
            "\n",
            "False\n",
            "True\n",
            "True\n",
            "False\n",
            "False\n",
            "True\n"
          ]
        }
      ]
    },
    {
      "cell_type": "code",
      "source": [
        "print(\"4) Logical Operator : \\n\")\n",
        "x = 3\n",
        "y = 2\n",
        "print(x < 5 and  x < 10)\n",
        "print(x < 5 or x < 4)\n",
        "print(not(x < 5 and x < 10))"
      ],
      "metadata": {
        "colab": {
          "base_uri": "https://localhost:8080/"
        },
        "id": "ACnSE_8k9w4X",
        "outputId": "af975009-1477-4a79-b300-18b5df7a3bbb"
      },
      "execution_count": 15,
      "outputs": [
        {
          "output_type": "stream",
          "name": "stdout",
          "text": [
            "4) Logical Operator : \n",
            "\n",
            "True\n",
            "True\n",
            "False\n"
          ]
        }
      ]
    },
    {
      "cell_type": "code",
      "source": [
        "print(\"5) Identity Operator : \\n\")\n",
        "x = 5\n",
        "y = 5\n",
        "print(x is y)\n",
        "print(x is not y)"
      ],
      "metadata": {
        "colab": {
          "base_uri": "https://localhost:8080/"
        },
        "id": "gcoaMuGs-JXG",
        "outputId": "8df9ae59-4239-48cf-da2e-33921aac5943"
      },
      "execution_count": 16,
      "outputs": [
        {
          "output_type": "stream",
          "name": "stdout",
          "text": [
            "5) Identity Operator : \n",
            "\n",
            "True\n",
            "False\n"
          ]
        }
      ]
    },
    {
      "cell_type": "code",
      "source": [
        "print(\"6) Membership Operator : \\n\")\n",
        "x = 3\n",
        "y = [1,2,3]\n",
        "print(x in y)\n",
        "print(x not in y)"
      ],
      "metadata": {
        "colab": {
          "base_uri": "https://localhost:8080/"
        },
        "id": "bFqzu00j-ya3",
        "outputId": "27081a57-f531-4163-e0f0-8b609f502140"
      },
      "execution_count": 17,
      "outputs": [
        {
          "output_type": "stream",
          "name": "stdout",
          "text": [
            "6) Membership Operator : \n",
            "\n",
            "True\n",
            "False\n"
          ]
        }
      ]
    },
    {
      "cell_type": "code",
      "source": [
        "print(\"7) Bitwise Operator : \\n\")\n",
        "x = 3\n",
        "y = 2\n",
        "print(x & y)\n",
        "print(x | y)\n",
        "print(x ^ y)\n",
        "print(~x)\n",
        "print(x<<2)\n",
        "print(x>>2)"
      ],
      "metadata": {
        "colab": {
          "base_uri": "https://localhost:8080/"
        },
        "id": "0CvbQ2FI_Hy_",
        "outputId": "3758f59b-0e89-4035-c4bb-371aadf1746e"
      },
      "execution_count": 18,
      "outputs": [
        {
          "output_type": "stream",
          "name": "stdout",
          "text": [
            "7) Bitwise Operator : \n",
            "\n",
            "2\n",
            "3\n",
            "1\n",
            "-4\n",
            "12\n",
            "0\n"
          ]
        }
      ]
    },
    {
      "cell_type": "code",
      "source": [
        "print(\"8) Precedence : \")\n",
        "\n",
        "a = 2\n",
        "b = 3\n",
        "c = 4\n",
        "d = [1, 2, 3, 4]\n",
        "\n",
        "print(((a + b) * c ** 2 >> 1 & 15) ^ 5 | 8 and not (a is b) or (c in d))\n"
      ],
      "metadata": {
        "colab": {
          "base_uri": "https://localhost:8080/"
        },
        "id": "PLyu6PR2AJLj",
        "outputId": "e028f834-dfef-4cc9-f373-fd94d680f497"
      },
      "execution_count": 19,
      "outputs": [
        {
          "output_type": "stream",
          "name": "stdout",
          "text": [
            "8) Precedence : \n",
            "True\n"
          ]
        }
      ]
    },
    {
      "cell_type": "code",
      "source": [
        "#some real-use case :\n",
        "\n",
        "age = 18\n",
        "gender = \"female\"\n",
        "if (age>=18 or gender == \"female\"):\n",
        "  print(\"Discount granted ! \")\n",
        "else :\n",
        "  print(\"No Discount !\")"
      ],
      "metadata": {
        "id": "aYA_x4tkAh8y",
        "colab": {
          "base_uri": "https://localhost:8080/"
        },
        "outputId": "d8e4565f-2559-471c-945e-73cf7a73144b"
      },
      "execution_count": 20,
      "outputs": [
        {
          "output_type": "stream",
          "name": "stdout",
          "text": [
            "Discount granted ! \n"
          ]
        }
      ]
    },
    {
      "cell_type": "code",
      "source": [
        "# Comments\n",
        "# used to disable, description, other user can easily understand\n",
        "\n",
        "# Single line command\n",
        "\n",
        "'''\n",
        "Multi line command using single quotes\n",
        "'''\n",
        "\n",
        "\"\"\"\n",
        "Multi line command using Double quotes\n",
        "\"\"\""
      ],
      "metadata": {
        "colab": {
          "base_uri": "https://localhost:8080/",
          "height": 35
        },
        "id": "uOE6b47OxHVT",
        "outputId": "0217949a-6838-40e4-c479-18a05903fe45"
      },
      "execution_count": 21,
      "outputs": [
        {
          "output_type": "execute_result",
          "data": {
            "text/plain": [
              "'\\nMulti line command using Double quotes\\n'"
            ],
            "application/vnd.google.colaboratory.intrinsic+json": {
              "type": "string"
            }
          },
          "metadata": {},
          "execution_count": 21
        }
      ]
    },
    {
      "cell_type": "code",
      "source": [
        "#input\n",
        "\"\"\"\n",
        "a = 10\n",
        "b = 5\n",
        "print(a+b)\n",
        "\n",
        "\"Hard Coding\" instead of getting input from user we assign manually -> not best pratice\n",
        " Change management Process takes time while we modifying or changing some code even semicolon That's why Hard coding is not best approach\n",
        "\n",
        "\"\"\"\n",
        "\n",
        "val_1 = int(input(\"Enter value 1 : \"))\n",
        "val_2 = int(input(\"Enter value 2 : \"))\n",
        "val_3 = val_1 + val_2\n",
        "print(f\"The sum of {val_1} and {val_2} is {val_3}\")"
      ],
      "metadata": {
        "colab": {
          "base_uri": "https://localhost:8080/"
        },
        "id": "xqn5cRAtyR97",
        "outputId": "6babb447-83fa-4f74-dbe3-19029eb8dfbc"
      },
      "execution_count": 22,
      "outputs": [
        {
          "output_type": "stream",
          "name": "stdout",
          "text": [
            "Enter value 1 : 10\n",
            "Enter value 2 : 5\n",
            "The sum of 10 and 5 is 15\n"
          ]
        }
      ]
    },
    {
      "cell_type": "code",
      "source": [
        "\"\"\"\n",
        "if we need to run and test our code daily at 5 pm then Sceduler is best approach.\n",
        "Scheduler will not used to getting input from user manually so input function is not used while scheduler will doing tasks\n",
        "\"\"\"\n",
        "\n",
        "import sys\n",
        "\n",
        "full_name = sys.argv[1] # here 1 is index value  (eg : python file.py input -> here file.py is inxex[0] and input is index[1])\n",
        "\n",
        "email = full_name.lower().replace(\" \",\".\") + \"@company.com\"\n",
        "\n",
        "print(\"\\n\")\n",
        "print(\"Your Name  : \",full_name)\n",
        "print(\"Your Email : \",email)\n",
        "\n",
        "\n",
        "\"\"\"\n",
        "Need to run this is terminal by using the command\n",
        "\n",
        "python file_name input\n",
        "\n",
        "eg : python sample.py Nithish\n",
        "\n",
        "output :\n",
        "Your Name : Nithish\n",
        "Your Email : nithish@company.com\n",
        "\"\"\""
      ],
      "metadata": {
        "colab": {
          "base_uri": "https://localhost:8080/",
          "height": 122
        },
        "id": "PKXVbIPU0MEk",
        "outputId": "882d9a5c-10f5-488a-bc52-06a55fc91957"
      },
      "execution_count": 23,
      "outputs": [
        {
          "output_type": "stream",
          "name": "stdout",
          "text": [
            "\n",
            "\n",
            "Your Name :  -f\n",
            "Your Email :  -f@company.com\n"
          ]
        },
        {
          "output_type": "execute_result",
          "data": {
            "text/plain": [
              "'\\nNeed to run this is terminal by using the command\\n\\npython file_name input\\n\\neg : python sample.py Nithish\\n\\noutput :\\nYour Name : Nithish\\nYour Email : nithish@company.com\\n'"
            ],
            "application/vnd.google.colaboratory.intrinsic+json": {
              "type": "string"
            }
          },
          "metadata": {},
          "execution_count": 23
        }
      ]
    },
    {
      "cell_type": "code",
      "source": [
        "import sys\n",
        "\n",
        "if (len(sys.argv) == 2) :\n",
        "  print(\"You Just give single input in run time. Please ensure to provide two input in run time.\")\n",
        "  sys.exit()\n",
        "\n",
        "first_name = sys.argv[1]\n",
        "last_name = sys.argv[2]\n",
        "print(f\"Your Full name is {first_name} {last_name}\")\n",
        "\n",
        "\"\"\"\n",
        "some one have more than 2 initial eg: Kumar A G\n",
        "did we need to get everyting as input in runtime by using sys.argv[]\n",
        "we can use slice operator\n",
        "\"\"\"\n",
        "\n",
        "name = sys.argv[1:] # python file.py Kumar A G => ['Kumar','A','G']\n",
        "name1 = \"\".join(sys.argv[1:]) # python file.py Kumar A G => KumarAG\n",
        "name2 = \" \".join(sys.argv[1:]) # python file.py Kumar A G => Kumar A G\n",
        "\n",
        "print(f\"Your name is : {name}\")\n",
        "print(f\"Your name is : {name1}\")\n",
        "print(f\"Your name is : {name2}\")"
      ],
      "metadata": {
        "colab": {
          "base_uri": "https://localhost:8080/"
        },
        "id": "sgiPYm_-4AOJ",
        "outputId": "88f2cc6b-b647-47e7-ba43-a3c79112c349"
      },
      "execution_count": 24,
      "outputs": [
        {
          "output_type": "stream",
          "name": "stdout",
          "text": [
            "Your Full name is -f /root/.local/share/jupyter/runtime/kernel-69170d68-6353-4435-8572-b29eaa1aa4a7.json\n",
            "Your name is : ['-f', '/root/.local/share/jupyter/runtime/kernel-69170d68-6353-4435-8572-b29eaa1aa4a7.json']\n",
            "Your name is : -f/root/.local/share/jupyter/runtime/kernel-69170d68-6353-4435-8572-b29eaa1aa4a7.json\n",
            "Your name is : -f /root/.local/share/jupyter/runtime/kernel-69170d68-6353-4435-8572-b29eaa1aa4a7.json\n"
          ]
        }
      ]
    },
    {
      "cell_type": "code",
      "source": [
        "# String Handling\n",
        "\n",
        "# delimeter -> seperate a column or word (eg : Nithish,21,AIDS) => here , is the delimiter\n",
        "\n",
        "\"\"\"\n",
        "\n",
        "Method \tDescription\n",
        "capitalize()\t  Converts the first character to upper case\n",
        "casefold()\t    Converts string into lower case\n",
        "center()\t      Returns a centered string\n",
        "count()\t        Returns the number of times a specified value occurs in a string\n",
        "encode()\t      Returns an encoded version of the string\n",
        "endswith()\t    Returns true if the string ends with the specified value\n",
        "expandtabs()\t  Sets the tab size of the string\n",
        "find()\t        Searches the string for a specified value and returns the position of where it was found\n",
        "format()\t      Formats specified values in a string\n",
        "format_map()\t  Formats specified values from a dictionary in a string\n",
        "index()\t        Searches the string for a specified value and returns the position of where it was found\n",
        "isalnum()\t      Returns True if all characters in the string are alphanumeric\n",
        "isalpha()\t      Returns True if all characters in the string are in the alphabet\n",
        "isascii()\t      Returns True if all characters in the string are ascii characters\n",
        "'isdecimal'()\t    Returns True if all characters in the string are decimals\n",
        "isdigit()\t      Returns True if all characters in the string are digits\n",
        "isidentifier()\tReturns True if the string is an identifier\n",
        "islower()\t      Returns True if all characters in the string are lower case\n",
        "isnumeric()\t    Returns True if all characters in the string are numeric\n",
        "isprintable()\t  Returns True if all characters in the string are printable\n",
        "isspace()\t      Returns True if all characters in the string are whitespaces\n",
        "istitle() \t    Returns True if the string follows the rules of a title\n",
        "isupper()\t      Returns True if all characters in the string are upper case\n",
        "join()\t        Converts the elements of an iterable into a string\n",
        "ljust()\t        Returns a left justified version of the string\n",
        "lower()\t        Converts a string into lower case\n",
        "lstrip()\t      Returns a left trim version of the string\n",
        "maketrans()\t    Returns a translation table to be used in translations\n",
        "partition()\t    Returns a tuple where the string is parted into three parts\n",
        "replace()\t      Returns a string where a specified value is replaced with a specified value\n",
        "rfind()\t        Searches the string for a specified value and returns the last position of where it was found\n",
        "rindex()\t      Searches the string for a specified value and returns the last position of where it was found\n",
        "rjust()\t        Returns a right justified version of the string\n",
        "rpartition()\t  Returns a tuple where the string is parted into three parts\n",
        "rsplit()\t      Splits the string at the specified separator, and returns a list\n",
        "rstrip()\t      Returns a right trim version of the string\n",
        "split()\t        Splits the string at the specified separator, and returns a list\n",
        "splitlines()\t  Splits the string at line breaks and returns a list\n",
        "startswith()\t  Returns true if the string starts with the specified value\n",
        "strip()\t        Returns a trimmed version of the string\n",
        "swapcase()\t    Swaps cases, lower case becomes upper case and vice versa\n",
        "title()\t        Converts the first character of each word to upper case\n",
        "translate()\t    Returns a translated string\n",
        "upper()\t        Converts a string into upper case\n",
        "zfill()\t        Fills the string with a specified number of 0 values at the beginning\n",
        "\n",
        "\"\"\"\n",
        "\n",
        "string = \"this is PYTHON progRAmming. IS a best progRAmming Language\"\n",
        "string1 = \"Hello\"\n",
        "string2 = \"café\"\n",
        "string3 = \"Hello\\tHow\\tAre\\tYou\"\n",
        "string4 = \"Nithish\"\n",
        "string5 = \"Samantha\"\n",
        "string6 = {'Name':'Nithish','love':'Samantha'}\n",
        "string7 = \"abc123\"\n",
        "string8 = \"1234\"\n",
        "\n",
        "print(\"Orginal String : \",string)\n",
        "print(\"\\nCapitalize     : \",string.capitalize())\n",
        "print(\"Casefold       : \",string.casefold())\n",
        "print(\"Center         : \",string1.center(10,\"@\"))\n",
        "print(\"Count          : \",string.count(\"progRAmming\"))\n",
        "print(\"Encode         : \",string2.encode(\"utf-8\"))\n",
        "\n",
        "\"\"\"\n",
        "string.encode(encoding=\"utf-8\", errors=\"strict\")\n",
        "\n",
        "encoding: (Optional) The encoding type to use. Default is 'utf-8'.\n",
        "\n",
        "errors: (Optional) How to handle encoding errors. Options:\n",
        "    'strict' (default): Raises error on failure\n",
        "    'ignore': Skips characters that can't be encoded\n",
        "    'replace': Replaces with ? or a suitable replacement\n",
        "\"\"\"\n",
        "print(\"Endswith       : \",string.endswith(\"e\"))\n",
        "print(\"Expandtabs     : \",string3.expandtabs(4)) # Takes multiple of the 4 th index\n",
        "print(\"Find           : \",string.find(\"PYTHON\"))\n",
        "print(\"Format         :  Hello I am {} and I love {}\".format(string4,string5)) # Replaces string in {}\n",
        "print(\"Format Map     :  Hello I am {Name} and I love {love}\".format_map(string6))\n",
        "print(\"Index          : \",string.index(\"PYTHON\"))\n",
        "print(\"Alpha-Numeric  : \",string7.isalnum())\n",
        "print(\"Alphabet       : \",string1.isalpha())\n",
        "print(\"ASCII          : \",string1.isascii())\n",
        "print(\"Digit          : \",string8.isdigit())\n"
      ],
      "metadata": {
        "id": "5kHI0-x06rIV",
        "colab": {
          "base_uri": "https://localhost:8080/"
        },
        "outputId": "1824f0e4-c459-4edf-e747-1e5f9a16307d"
      },
      "execution_count": 79,
      "outputs": [
        {
          "output_type": "stream",
          "name": "stdout",
          "text": [
            "Orginal String :  this is PYTHON progRAmming. IS a best progRAmming Language\n",
            "\n",
            "Capitalize     :  This is python programming. is a best programming language\n",
            "Casefold       :  this is python programming. is a best programming language\n",
            "Center         :  @@Hello@@@\n",
            "Count          :  2\n",
            "Encode         :  b'caf\\xc3\\xa9'\n",
            "Endswith       :  True\n",
            "Expandtabs     :  Hello   How Are You\n",
            "Find           :  8\n",
            "Format         :  Hello I am Nithish and I love Samantha\n",
            "Format Map     :  Hello I am Nithish and I love Samantha\n",
            "Index          :  8\n",
            "Alpha-Numeric  :  True\n",
            "Alphabet       :  True\n",
            "ASCII          :  True\n",
            "Digit          :  True\n"
          ]
        }
      ]
    },
    {
      "cell_type": "code",
      "source": [],
      "metadata": {
        "id": "QjFl1HXTGH4T"
      },
      "execution_count": null,
      "outputs": []
    }
  ]
}