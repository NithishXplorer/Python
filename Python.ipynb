{
  "nbformat": 4,
  "nbformat_minor": 0,
  "metadata": {
    "colab": {
      "provenance": [],
      "authorship_tag": "ABX9TyNkq9TQi8tayeKSybL9RVpz",
      "include_colab_link": true
    },
    "kernelspec": {
      "name": "python3",
      "display_name": "Python 3"
    },
    "language_info": {
      "name": "python"
    }
  },
  "cells": [
    {
      "cell_type": "markdown",
      "metadata": {
        "id": "view-in-github",
        "colab_type": "text"
      },
      "source": [
        "<a href=\"https://colab.research.google.com/github/NithishXplorer/Python/blob/main/Python.ipynb\" target=\"_parent\"><img src=\"https://colab.research.google.com/assets/colab-badge.svg\" alt=\"Open In Colab\"/></a>"
      ]
    },
    {
      "cell_type": "code",
      "execution_count": null,
      "metadata": {
        "colab": {
          "base_uri": "https://localhost:8080/"
        },
        "id": "WIeUQ1K3BcC5",
        "outputId": "85408518-5e67-4fdd-ea8c-189b97279cb7"
      },
      "outputs": [
        {
          "output_type": "stream",
          "name": "stdout",
          "text": [
            "Value :  10\n",
            "\n",
            "Value of a :  20\n",
            "\n",
            "Addition :  15\n",
            "\n",
            "Concatenate :  105\n"
          ]
        }
      ],
      "source": [
        "# Variables :\n",
        "\n",
        "10\n",
        "print(\"Value : \",10)\n",
        "\n",
        "a = 20\n",
        "print(\"\\nValue of a : \",a)\n",
        "\n",
        "a = 10\n",
        "b = 5\n",
        "print(\"\\nAddition : \",a+b)\n",
        "\n",
        "a = '10'\n",
        "b = '5'\n",
        "print(\"\\nConcatenate : \",a+b)"
      ]
    },
    {
      "cell_type": "code",
      "source": [
        "# Data Type :\n",
        "\n",
        "age = 7175\n",
        "print(age, type(age))\n",
        "\n",
        "name = \"Dabbe\"\n",
        "print(name, type(name))\n",
        "\n",
        "price = 388.0\n",
        "print(price, type(price))\n",
        "\n",
        "is_here = True\n",
        "print(is_here, type(is_here))\n",
        "\n",
        "#NULL\n",
        "leave = None\n",
        "print(leave, type(leave))\n"
      ],
      "metadata": {
        "colab": {
          "base_uri": "https://localhost:8080/"
        },
        "id": "L-Uui59JBhxC",
        "outputId": "13d3ecb8-45d9-406d-9878-e1eedc447b6b"
      },
      "execution_count": null,
      "outputs": [
        {
          "output_type": "stream",
          "name": "stdout",
          "text": [
            "7175 <class 'int'>\n",
            "Dabbe <class 'str'>\n",
            "388.0 <class 'float'>\n",
            "True <class 'bool'>\n",
            "None <class 'NoneType'>\n"
          ]
        }
      ]
    },
    {
      "cell_type": "code",
      "source": [
        "# Variable Scope :\n",
        "\n",
        "# scope : accessing the variable  => RULE : L -> E -> G -> B"
      ],
      "metadata": {
        "id": "nkoNlamFEzzM"
      },
      "execution_count": null,
      "outputs": []
    },
    {
      "cell_type": "code",
      "source": [
        "# L : local variable - ( used within the function )\n",
        "\n",
        "def func():\n",
        "  var = \"Dabbe\"\n",
        "  print(\"The best Horror flim is : \",var)\n",
        "\n",
        "func()\n",
        "#print(\"The best Horror flim is : \",var) => NameError"
      ],
      "metadata": {
        "colab": {
          "base_uri": "https://localhost:8080/"
        },
        "id": "Ox07r_g9GZrr",
        "outputId": "d57981a1-d139-4e91-e724-e333f7656210"
      },
      "execution_count": null,
      "outputs": [
        {
          "output_type": "stream",
          "name": "stdout",
          "text": [
            "The best Horror flim is :  Dabbe\n"
          ]
        }
      ]
    },
    {
      "cell_type": "code",
      "source": [
        "# E : Enclosing - (Child function can access the variable in parent function)\n",
        "\n",
        "def func1():\n",
        "  var = 10\n",
        "  def func2():\n",
        "    print(\"Value is : \",var) # Access the variable which belongs to Parent Class\n",
        "  func2()\n",
        "func1()"
      ],
      "metadata": {
        "colab": {
          "base_uri": "https://localhost:8080/"
        },
        "id": "9OA2r-mKHy22",
        "outputId": "d8044268-d0c5-4798-c055-00201978c548"
      },
      "execution_count": null,
      "outputs": [
        {
          "output_type": "stream",
          "name": "stdout",
          "text": [
            "Value is :  10\n"
          ]
        }
      ]
    },
    {
      "cell_type": "code",
      "source": [
        "# G : Global Variable - (We can acces the global variable anywhere in the program if it declared first )\n",
        "\n",
        "code = \"388@0\"\n",
        "def func():\n",
        "  print(\"The code word is : \",code)\n",
        "func()"
      ],
      "metadata": {
        "colab": {
          "base_uri": "https://localhost:8080/"
        },
        "id": "HCkMe_t4IHi_",
        "outputId": "c6df3963-c214-45ec-c131-295f2b38f53c"
      },
      "execution_count": null,
      "outputs": [
        {
          "output_type": "stream",
          "name": "stdout",
          "text": [
            "The code word is :  388@0\n"
          ]
        }
      ]
    },
    {
      "cell_type": "code",
      "source": [
        "# B : Built-In Variable - (We can use Built in variables directly)\n",
        "\n",
        "# some of the popular Built-In variables\n",
        "\n",
        "print(__name__) # name of the current module\n",
        "\n",
        "def func():\n",
        "  \"\"\" This is DocString \"\"\"\n",
        "print(func.__doc__)\n",
        "\n",
        "\n",
        "#Not Supported in .ipynb environment\n",
        "try:\n",
        "    print(__file__)\n",
        "except NameError:\n",
        "    print(\"__file__ is not defined in this environment\")"
      ],
      "metadata": {
        "colab": {
          "base_uri": "https://localhost:8080/"
        },
        "id": "N17ZuYp3JSpI",
        "outputId": "96b3038f-04d2-469a-988a-ebb8ac633b38"
      },
      "execution_count": null,
      "outputs": [
        {
          "output_type": "stream",
          "name": "stdout",
          "text": [
            "__main__\n",
            " This is DocString \n",
            "__file__ is not defined in this environment\n"
          ]
        }
      ]
    },
    {
      "cell_type": "code",
      "source": [
        "import builtins\n",
        "print(dir(builtins))"
      ],
      "metadata": {
        "colab": {
          "base_uri": "https://localhost:8080/"
        },
        "id": "mHjsxsGwKXtA",
        "outputId": "2519cc9c-356b-4dbf-a565-7fc746370d21"
      },
      "execution_count": null,
      "outputs": [
        {
          "output_type": "stream",
          "name": "stdout",
          "text": [
            "['ArithmeticError', 'AssertionError', 'AttributeError', 'BaseException', 'BaseExceptionGroup', 'BlockingIOError', 'BrokenPipeError', 'BufferError', 'BytesWarning', 'ChildProcessError', 'ConnectionAbortedError', 'ConnectionError', 'ConnectionRefusedError', 'ConnectionResetError', 'DeprecationWarning', 'EOFError', 'Ellipsis', 'EncodingWarning', 'EnvironmentError', 'Exception', 'ExceptionGroup', 'False', 'FileExistsError', 'FileNotFoundError', 'FloatingPointError', 'FutureWarning', 'GeneratorExit', 'IOError', 'ImportError', 'ImportWarning', 'IndentationError', 'IndexError', 'InterruptedError', 'IsADirectoryError', 'KeyError', 'KeyboardInterrupt', 'LookupError', 'MemoryError', 'ModuleNotFoundError', 'NameError', 'None', 'NotADirectoryError', 'NotImplemented', 'NotImplementedError', 'OSError', 'OverflowError', 'PendingDeprecationWarning', 'PermissionError', 'ProcessLookupError', 'RecursionError', 'ReferenceError', 'ResourceWarning', 'RuntimeError', 'RuntimeWarning', 'StopAsyncIteration', 'StopIteration', 'SyntaxError', 'SyntaxWarning', 'SystemError', 'SystemExit', 'TabError', 'TimeoutError', 'True', 'TypeError', 'UnboundLocalError', 'UnicodeDecodeError', 'UnicodeEncodeError', 'UnicodeError', 'UnicodeTranslateError', 'UnicodeWarning', 'UserWarning', 'ValueError', 'Warning', 'ZeroDivisionError', '__IPYTHON__', '__build_class__', '__debug__', '__doc__', '__import__', '__loader__', '__name__', '__package__', '__pybind11_internals_v4_gcc_libstdcpp_cxxabi1014__', '__spec__', 'abs', 'aiter', 'all', 'anext', 'any', 'ascii', 'bin', 'bool', 'breakpoint', 'bytearray', 'bytes', 'callable', 'chr', 'classmethod', 'compile', 'complex', 'copyright', 'credits', 'delattr', 'dict', 'dir', 'display', 'divmod', 'enumerate', 'eval', 'exec', 'execfile', 'filter', 'float', 'format', 'frozenset', 'get_ipython', 'getattr', 'globals', 'hasattr', 'hash', 'help', 'hex', 'id', 'input', 'int', 'isinstance', 'issubclass', 'iter', 'len', 'license', 'list', 'locals', 'map', 'max', 'memoryview', 'min', 'next', 'object', 'oct', 'open', 'ord', 'pow', 'print', 'property', 'range', 'repr', 'reversed', 'round', 'runfile', 'set', 'setattr', 'slice', 'sorted', 'staticmethod', 'str', 'sum', 'super', 'tuple', 'type', 'vars', 'zip']\n"
          ]
        }
      ]
    },
    {
      "cell_type": "code",
      "source": [
        "global_variable = \"Dabbe\"\n",
        "\n",
        "def func1():\n",
        "  enclosed = \"Jin\"\n",
        "  def func2():\n",
        "    local_variable = \"movie\"\n",
        "    print(f\"In {global_variable} movie {enclosed} is most powerful spirit\")\n",
        "  func2()\n",
        "func1()"
      ],
      "metadata": {
        "colab": {
          "base_uri": "https://localhost:8080/"
        },
        "id": "wjywE29tNO2C",
        "outputId": "d5b683ed-995d-435c-cfdb-2933e1730e6d"
      },
      "execution_count": null,
      "outputs": [
        {
          "output_type": "stream",
          "name": "stdout",
          "text": [
            "In Dabbe movie Jin is most powerful spirit\n"
          ]
        }
      ]
    },
    {
      "cell_type": "code",
      "source": [
        "#Type Casting and Checking - ( Changing one data type to another data Type)\n",
        "\n",
        "\"\"\"\n",
        "We cant type cast everything :\n",
        "\n",
        "int(abc) => Raises ValueError\n",
        "\n",
        "\"\"\"\n",
        "#Implicit Type-Casting\n",
        "a=10\n",
        "b=5.5\n",
        "c=a+b\n",
        "print(f\"{c} : \",type(c))\n",
        "\n",
        "#Explicit Type-Casting\n",
        "var1 = \"10\"\n",
        "var2 = \"20.5\"\n",
        "var3 = \"True\"\n",
        "\n",
        "print(f\"\\n\\n{var1} : \",type(var1))\n",
        "print(f\"{var2} : \",type(var2))\n",
        "print(f\"{var3} : \",type(var3))\n",
        "\n",
        "var1 = int(var1)\n",
        "var2 = float(var2)\n",
        "var3 = bool(var3)\n",
        "\n",
        "print(\"\\n\")\n",
        "print(f\"{var1} : \",type(var1))\n",
        "print(f\"{var2} : \",type(var2))\n",
        "print(f\"{var3} : \",type(var3))"
      ],
      "metadata": {
        "id": "ryXBKhABPdhh",
        "colab": {
          "base_uri": "https://localhost:8080/"
        },
        "outputId": "fc2cbcd3-39b5-45db-c527-7ab253943efa"
      },
      "execution_count": null,
      "outputs": [
        {
          "output_type": "stream",
          "name": "stdout",
          "text": [
            "15.5 :  <class 'float'>\n",
            "\n",
            "\n",
            "10 :  <class 'str'>\n",
            "20.5 :  <class 'str'>\n",
            "True :  <class 'str'>\n",
            "\n",
            "\n",
            "10 :  <class 'int'>\n",
            "20.5 :  <class 'float'>\n",
            "True :  <class 'bool'>\n"
          ]
        }
      ]
    },
    {
      "cell_type": "code",
      "source": [
        "# Operators in Python\n",
        "\n",
        "\"\"\"\n",
        "\n",
        "1) Arithmetic Operator :\n",
        "\n",
        "+  -> Addition\n",
        "-  -> Subtraction\n",
        "*  -> Multiplication\n",
        "/  -> Division\n",
        "%  -> Modulus (remainder)\n",
        "** -> Exopnential\n",
        "// -> Floor Division (3.33 = 3)\n",
        "\n",
        "2) Assignment Operator :\n",
        "\n",
        "=, +=, -=, *=, /=, %=, **=, //=, &=, |=, ^=, >>=, <<=, := (:= Walrus operator)\n",
        "\n",
        "3) Comparision Operator\n",
        "\n",
        "==, !=, >, <, >=, <=\n",
        "\n",
        "4) Logical Operator\n",
        "\n",
        "and, or, not\n",
        "\n",
        "5) Identity Operator\n",
        "\n",
        "is, is not\n",
        "\n",
        "6) Membership Operator\n",
        "\n",
        "in, not in\n",
        "\n",
        "7) Bitwise operator\n",
        "\n",
        "&, |, ^, ~, <<, >>\n",
        "\n",
        "PRECEDENCE : (highest to lowest)\n",
        "() \t                                            Parentheses\n",
        "** \t                                            Exponentiation\n",
        "+x  -x  ~x \t                                    Unary plus, unary minus, and bitwise NOT\n",
        "*  /  //  % \t                                  Multiplication, division, floor division, and modulus\n",
        "+  - \t                                          Addition and subtraction\n",
        "<<  >>   \t                                      Bitwise left and right shifts\n",
        "& \t                                            Bitwise AND\n",
        "^ \t                                            Bitwise XOR\n",
        "| \t                                            Bitwise OR\n",
        "==  !=  >  >=  <  <=  is  is not  in  not in  \tComparisons, identity, and membership operators\n",
        "not \t                                          Logical NOT\n",
        "and \t                                          AND\n",
        "or \t                                            OR\n",
        "\n",
        "\"\"\"\n",
        "print(\"\\n\")"
      ],
      "metadata": {
        "id": "9SEld6Gm4YFO",
        "colab": {
          "base_uri": "https://localhost:8080/"
        },
        "outputId": "ed50ea6e-df59-4be7-e543-81b3d832c1f9"
      },
      "execution_count": null,
      "outputs": [
        {
          "output_type": "stream",
          "name": "stdout",
          "text": [
            "\n",
            "\n"
          ]
        }
      ]
    },
    {
      "cell_type": "code",
      "source": [
        "a = 10\n",
        "b = 4\n",
        "\n",
        "print(\"1) ARITHMETIC OPERATOR :\\n\")\n",
        "print(f\"Addition : {a+b}\\nSubtraction : {a-b}\\nMultplication : {a*b}\\nDivision : {a/b}\\nModulus : {a%b}\\nExponential : {a**b}\\nFloor Division : {a//b}\")\n"
      ],
      "metadata": {
        "colab": {
          "base_uri": "https://localhost:8080/"
        },
        "id": "b-eGx53B1q3K",
        "outputId": "fc5b7600-2472-472c-e725-4f1e73aba379"
      },
      "execution_count": null,
      "outputs": [
        {
          "output_type": "stream",
          "name": "stdout",
          "text": [
            "1) ARITHMETIC OPERATOR :\n",
            "\n",
            "Addition : 14\n",
            "Subtraction : 6\n",
            "Multplication : 40\n",
            "Division : 2.5\n",
            "Modulus : 2\n",
            "Exponential : 10000\n",
            "Floor Division : 2\n"
          ]
        }
      ]
    },
    {
      "cell_type": "code",
      "source": [
        "print(\"2) ASSIGNMENT OPERATOR :\\n\")\n",
        "x = 5\n",
        "print(x)\n",
        "x += 5 # x = x + 5 => 10\n",
        "print(x)\n",
        "x -= 4 # 6\n",
        "print(x)\n",
        "x *= 5 #30\n",
        "print(x)\n",
        "x /= 5 #6\n",
        "print(x)\n",
        "x %= 4 #2\n",
        "print(x)\n",
        "x **= 20\n",
        "print(x)\n",
        "x //= 1 #2\n",
        "print(x)\n",
        "\n",
        "\n",
        "x=10\n",
        "x &= 3\n",
        "print(x)\n",
        "\"\"\"\n",
        "\n",
        "  1010    (10 in binary)\n",
        "& 0011    (3  in binary)\n",
        "---------\n",
        "  0010    (2  in binary)\n",
        "\n",
        "\"\"\"\n",
        "\n",
        "x |= 3\n",
        "print(x)\n",
        "\"\"\"\n",
        "   0010    (2 in binary)\n",
        "|  0011    (3 in binary)\n",
        "---0------\n",
        "   0011    (3 in binary)\n",
        "\"\"\"\n",
        "\n",
        "\n",
        "x ^= 2\n",
        "print(x)\n",
        "\"\"\"\n",
        "   0011    (3 in binary)\n",
        "^  0010    (2 in binary)\n",
        "---------\n",
        "   0001    (1 in binary)\n",
        "\"\"\"\n",
        "\n",
        "x = 16 #10000 => 16\n",
        "x >>= 2 #00100 => 4\n",
        "print(x)\n",
        "x <<= 3 #100000 => 32\n",
        "print(x)\n",
        "print(a:=5>3) # Variable := Expression"
      ],
      "metadata": {
        "colab": {
          "base_uri": "https://localhost:8080/"
        },
        "id": "yIJdroJD9SHx",
        "outputId": "df78cd09-b1d1-47df-8f2a-01252d4ffa53"
      },
      "execution_count": null,
      "outputs": [
        {
          "output_type": "stream",
          "name": "stdout",
          "text": [
            "2) ASSIGNMENT OPERATOR :\n",
            "\n",
            "5\n",
            "10\n",
            "6\n",
            "30\n",
            "6.0\n",
            "2.0\n",
            "1048576.0\n",
            "1048576.0\n",
            "2\n",
            "3\n",
            "1\n",
            "4\n",
            "32\n",
            "True\n"
          ]
        }
      ]
    },
    {
      "cell_type": "code",
      "source": [
        "print(\"3) Comparision Operator : \\n\")\n",
        "a = 10\n",
        "b = 5\n",
        "print(a == b)\n",
        "print(a != b)\n",
        "print(a > b)\n",
        "print(a < b)\n",
        "print(a <= b)\n",
        "print(a >= b)"
      ],
      "metadata": {
        "colab": {
          "base_uri": "https://localhost:8080/"
        },
        "id": "B7TB08299S8v",
        "outputId": "3801caf4-b1c2-477c-f868-ec84dd41b45d"
      },
      "execution_count": null,
      "outputs": [
        {
          "output_type": "stream",
          "name": "stdout",
          "text": [
            "3) Comparision Operator : \n",
            "\n",
            "False\n",
            "True\n",
            "True\n",
            "False\n",
            "False\n",
            "True\n"
          ]
        }
      ]
    },
    {
      "cell_type": "code",
      "source": [
        "print(\"4) Logical Operator : \\n\")\n",
        "x = 3\n",
        "y = 2\n",
        "print(x < 5 and  x < 10)\n",
        "print(x < 5 or x < 4)\n",
        "print(not(x < 5 and x < 10))"
      ],
      "metadata": {
        "colab": {
          "base_uri": "https://localhost:8080/"
        },
        "id": "ACnSE_8k9w4X",
        "outputId": "929596c7-cc0f-41dc-82a5-595cfa6afabf"
      },
      "execution_count": null,
      "outputs": [
        {
          "output_type": "stream",
          "name": "stdout",
          "text": [
            "4) Logical Operator : \n",
            "\n",
            "True\n",
            "True\n",
            "False\n"
          ]
        }
      ]
    },
    {
      "cell_type": "code",
      "source": [
        "print(\"5) Identity Operator : \\n\")\n",
        "x = 5\n",
        "y = 5\n",
        "print(x is y)\n",
        "print(x is not y)"
      ],
      "metadata": {
        "colab": {
          "base_uri": "https://localhost:8080/"
        },
        "id": "gcoaMuGs-JXG",
        "outputId": "de9e4022-8eca-47f9-b7fb-ae9b52771add"
      },
      "execution_count": null,
      "outputs": [
        {
          "output_type": "stream",
          "name": "stdout",
          "text": [
            "5) Identity Operator : \n",
            "\n",
            "True\n",
            "False\n"
          ]
        }
      ]
    },
    {
      "cell_type": "code",
      "source": [
        "print(\"6) Membership Operator : \\n\")\n",
        "x = 3\n",
        "y = [1,2,3]\n",
        "print(x in y)\n",
        "print(x not in y)"
      ],
      "metadata": {
        "colab": {
          "base_uri": "https://localhost:8080/"
        },
        "id": "bFqzu00j-ya3",
        "outputId": "e62393b0-db88-43d4-ab7a-f0f4e6b663b2"
      },
      "execution_count": null,
      "outputs": [
        {
          "output_type": "stream",
          "name": "stdout",
          "text": [
            "6) Membership Operator : \n",
            "\n",
            "True\n",
            "False\n"
          ]
        }
      ]
    },
    {
      "cell_type": "code",
      "source": [
        "print(\"7) Bitwise Operator : \\n\")\n",
        "x = 3\n",
        "y = 2\n",
        "print(x & y)\n",
        "print(x | y)\n",
        "print(x ^ y)\n",
        "print(~x)\n",
        "print(x<<2)\n",
        "print(x>>2)"
      ],
      "metadata": {
        "colab": {
          "base_uri": "https://localhost:8080/"
        },
        "id": "0CvbQ2FI_Hy_",
        "outputId": "0e8ed084-7d3f-47da-f7c7-e7c2d2a72347"
      },
      "execution_count": null,
      "outputs": [
        {
          "output_type": "stream",
          "name": "stdout",
          "text": [
            "7) Bitwise Operator : \n",
            "\n",
            "2\n",
            "3\n",
            "1\n",
            "-4\n",
            "12\n",
            "0\n"
          ]
        }
      ]
    },
    {
      "cell_type": "code",
      "source": [
        "print(\"8) Precedence : \")\n",
        "\n",
        "a = 2\n",
        "b = 3\n",
        "c = 4\n",
        "d = [1, 2, 3, 4]\n",
        "\n",
        "print(((a + b) * c ** 2 >> 1 & 15) ^ 5 | 8 and not (a is b) or (c in d))\n"
      ],
      "metadata": {
        "colab": {
          "base_uri": "https://localhost:8080/"
        },
        "id": "PLyu6PR2AJLj",
        "outputId": "2afff82e-d59f-4aad-dd97-161d49197249"
      },
      "execution_count": null,
      "outputs": [
        {
          "output_type": "stream",
          "name": "stdout",
          "text": [
            "8) Precedence : \n",
            "True\n"
          ]
        }
      ]
    },
    {
      "cell_type": "code",
      "source": [],
      "metadata": {
        "id": "aYA_x4tkAh8y"
      },
      "execution_count": null,
      "outputs": []
    }
  ]
}